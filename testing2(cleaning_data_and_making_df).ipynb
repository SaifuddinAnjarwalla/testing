{
 "cells": [
  {
   "cell_type": "code",
   "execution_count": 274,
   "metadata": {},
   "outputs": [],
   "source": [
    "import pandas as pd\n",
    "import numpy as np\n",
    "import matplotlib.pyplot as plt\n",
    "%matplotlib inline\n",
    "import seaborn as sns"
   ]
  },
  {
   "cell_type": "code",
   "execution_count": 275,
   "metadata": {},
   "outputs": [],
   "source": [
    "from pandasql import sqldf\n",
    "pysqldf = lambda q:sqldf(q, globals())"
   ]
  },
  {
   "cell_type": "markdown",
   "metadata": {},
   "source": [
    "things i want to find out\n",
    "1. which gneres make the most money\n",
    "2. which release dates make the most money\n",
    "3. how much to spend on a movie\n",
    "4. which directors/actors to use\n",
    "5. which rating is best\n",
    "6. how long it should be\n",
    "7. which day is best\n",
    "8. how long they should film for\n",
    "for all aspects above we care about return on investment \n",
    "random ones\n",
    "9. weather on release day\n",
    "10. percentrage gdp growth on release year\n",
    "11. global unemployment levels \n",
    "\n",
    "plan of action\n",
    "1. re-read all notes tonight \n",
    "2. figure out how to connect data sets to get what i want and which ones to use \n",
    "3. connect them\n",
    "\n",
    "1. DONE\n",
    "2. 1)\n"
   ]
  },
  {
   "cell_type": "code",
   "execution_count": 276,
   "metadata": {
    "scrolled": true
   },
   "outputs": [
    {
     "data": {
      "text/html": [
       "<div>\n",
       "<style scoped>\n",
       "    .dataframe tbody tr th:only-of-type {\n",
       "        vertical-align: middle;\n",
       "    }\n",
       "\n",
       "    .dataframe tbody tr th {\n",
       "        vertical-align: top;\n",
       "    }\n",
       "\n",
       "    .dataframe thead th {\n",
       "        text-align: right;\n",
       "    }\n",
       "</style>\n",
       "<table border=\"1\" class=\"dataframe\">\n",
       "  <thead>\n",
       "    <tr style=\"text-align: right;\">\n",
       "      <th></th>\n",
       "      <th>id</th>\n",
       "      <th>release_date</th>\n",
       "      <th>movie</th>\n",
       "      <th>production_budget</th>\n",
       "      <th>domestic_gross</th>\n",
       "      <th>worldwide_gross</th>\n",
       "    </tr>\n",
       "  </thead>\n",
       "  <tbody>\n",
       "    <tr>\n",
       "      <td>0</td>\n",
       "      <td>1</td>\n",
       "      <td>Dec 18, 2009</td>\n",
       "      <td>Avatar</td>\n",
       "      <td>$425,000,000</td>\n",
       "      <td>$760,507,625</td>\n",
       "      <td>$2,776,345,279</td>\n",
       "    </tr>\n",
       "    <tr>\n",
       "      <td>1</td>\n",
       "      <td>2</td>\n",
       "      <td>May 20, 2011</td>\n",
       "      <td>Pirates of the Caribbean: On Stranger Tides</td>\n",
       "      <td>$410,600,000</td>\n",
       "      <td>$241,063,875</td>\n",
       "      <td>$1,045,663,875</td>\n",
       "    </tr>\n",
       "    <tr>\n",
       "      <td>2</td>\n",
       "      <td>3</td>\n",
       "      <td>Jun 7, 2019</td>\n",
       "      <td>Dark Phoenix</td>\n",
       "      <td>$350,000,000</td>\n",
       "      <td>$42,762,350</td>\n",
       "      <td>$149,762,350</td>\n",
       "    </tr>\n",
       "    <tr>\n",
       "      <td>3</td>\n",
       "      <td>4</td>\n",
       "      <td>May 1, 2015</td>\n",
       "      <td>Avengers: Age of Ultron</td>\n",
       "      <td>$330,600,000</td>\n",
       "      <td>$459,005,868</td>\n",
       "      <td>$1,403,013,963</td>\n",
       "    </tr>\n",
       "    <tr>\n",
       "      <td>4</td>\n",
       "      <td>5</td>\n",
       "      <td>Dec 15, 2017</td>\n",
       "      <td>Star Wars Ep. VIII: The Last Jedi</td>\n",
       "      <td>$317,000,000</td>\n",
       "      <td>$620,181,382</td>\n",
       "      <td>$1,316,721,747</td>\n",
       "    </tr>\n",
       "  </tbody>\n",
       "</table>\n",
       "</div>"
      ],
      "text/plain": [
       "   id  release_date                                        movie  \\\n",
       "0   1  Dec 18, 2009                                       Avatar   \n",
       "1   2  May 20, 2011  Pirates of the Caribbean: On Stranger Tides   \n",
       "2   3   Jun 7, 2019                                 Dark Phoenix   \n",
       "3   4   May 1, 2015                      Avengers: Age of Ultron   \n",
       "4   5  Dec 15, 2017            Star Wars Ep. VIII: The Last Jedi   \n",
       "\n",
       "  production_budget domestic_gross worldwide_gross  \n",
       "0      $425,000,000   $760,507,625  $2,776,345,279  \n",
       "1      $410,600,000   $241,063,875  $1,045,663,875  \n",
       "2      $350,000,000    $42,762,350    $149,762,350  \n",
       "3      $330,600,000   $459,005,868  $1,403,013,963  \n",
       "4      $317,000,000   $620,181,382  $1,316,721,747  "
      ]
     },
     "metadata": {},
     "output_type": "display_data"
    },
    {
     "name": "stdout",
     "output_type": "stream",
     "text": [
      "<class 'pandas.core.frame.DataFrame'>\n",
      "RangeIndex: 5782 entries, 0 to 5781\n",
      "Data columns (total 6 columns):\n",
      "id                   5782 non-null int64\n",
      "release_date         5782 non-null object\n",
      "movie                5782 non-null object\n",
      "production_budget    5782 non-null object\n",
      "domestic_gross       5782 non-null object\n",
      "worldwide_gross      5782 non-null object\n",
      "dtypes: int64(1), object(5)\n",
      "memory usage: 271.2+ KB\n"
     ]
    },
    {
     "data": {
      "text/plain": [
       "None"
      ]
     },
     "metadata": {},
     "output_type": "display_data"
    }
   ],
   "source": [
    "df1 = pd.read_csv('zippedData/tn.movie_budgets.csv.gz')\n",
    "display(df1.head())\n",
    "display(df1.info())"
   ]
  },
  {
   "cell_type": "code",
   "execution_count": 277,
   "metadata": {},
   "outputs": [
    {
     "data": {
      "text/html": [
       "<div>\n",
       "<style scoped>\n",
       "    .dataframe tbody tr th:only-of-type {\n",
       "        vertical-align: middle;\n",
       "    }\n",
       "\n",
       "    .dataframe tbody tr th {\n",
       "        vertical-align: top;\n",
       "    }\n",
       "\n",
       "    .dataframe thead th {\n",
       "        text-align: right;\n",
       "    }\n",
       "</style>\n",
       "<table border=\"1\" class=\"dataframe\">\n",
       "  <thead>\n",
       "    <tr style=\"text-align: right;\">\n",
       "      <th></th>\n",
       "      <th>tconst</th>\n",
       "      <th>primary_title</th>\n",
       "      <th>original_title</th>\n",
       "      <th>start_year</th>\n",
       "      <th>runtime_minutes</th>\n",
       "      <th>genres</th>\n",
       "    </tr>\n",
       "  </thead>\n",
       "  <tbody>\n",
       "    <tr>\n",
       "      <td>0</td>\n",
       "      <td>tt0063540</td>\n",
       "      <td>Sunghursh</td>\n",
       "      <td>Sunghursh</td>\n",
       "      <td>2013</td>\n",
       "      <td>175.0</td>\n",
       "      <td>Action,Crime,Drama</td>\n",
       "    </tr>\n",
       "    <tr>\n",
       "      <td>1</td>\n",
       "      <td>tt0066787</td>\n",
       "      <td>One Day Before the Rainy Season</td>\n",
       "      <td>Ashad Ka Ek Din</td>\n",
       "      <td>2019</td>\n",
       "      <td>114.0</td>\n",
       "      <td>Biography,Drama</td>\n",
       "    </tr>\n",
       "    <tr>\n",
       "      <td>2</td>\n",
       "      <td>tt0069049</td>\n",
       "      <td>The Other Side of the Wind</td>\n",
       "      <td>The Other Side of the Wind</td>\n",
       "      <td>2018</td>\n",
       "      <td>122.0</td>\n",
       "      <td>Drama</td>\n",
       "    </tr>\n",
       "    <tr>\n",
       "      <td>3</td>\n",
       "      <td>tt0069204</td>\n",
       "      <td>Sabse Bada Sukh</td>\n",
       "      <td>Sabse Bada Sukh</td>\n",
       "      <td>2018</td>\n",
       "      <td>NaN</td>\n",
       "      <td>Comedy,Drama</td>\n",
       "    </tr>\n",
       "    <tr>\n",
       "      <td>4</td>\n",
       "      <td>tt0100275</td>\n",
       "      <td>The Wandering Soap Opera</td>\n",
       "      <td>La Telenovela Errante</td>\n",
       "      <td>2017</td>\n",
       "      <td>80.0</td>\n",
       "      <td>Comedy,Drama,Fantasy</td>\n",
       "    </tr>\n",
       "  </tbody>\n",
       "</table>\n",
       "</div>"
      ],
      "text/plain": [
       "      tconst                    primary_title              original_title  \\\n",
       "0  tt0063540                        Sunghursh                   Sunghursh   \n",
       "1  tt0066787  One Day Before the Rainy Season             Ashad Ka Ek Din   \n",
       "2  tt0069049       The Other Side of the Wind  The Other Side of the Wind   \n",
       "3  tt0069204                  Sabse Bada Sukh             Sabse Bada Sukh   \n",
       "4  tt0100275         The Wandering Soap Opera       La Telenovela Errante   \n",
       "\n",
       "   start_year  runtime_minutes                genres  \n",
       "0        2013            175.0    Action,Crime,Drama  \n",
       "1        2019            114.0       Biography,Drama  \n",
       "2        2018            122.0                 Drama  \n",
       "3        2018              NaN          Comedy,Drama  \n",
       "4        2017             80.0  Comedy,Drama,Fantasy  "
      ]
     },
     "metadata": {},
     "output_type": "display_data"
    },
    {
     "name": "stdout",
     "output_type": "stream",
     "text": [
      "<class 'pandas.core.frame.DataFrame'>\n",
      "RangeIndex: 146144 entries, 0 to 146143\n",
      "Data columns (total 6 columns):\n",
      "tconst             146144 non-null object\n",
      "primary_title      146144 non-null object\n",
      "original_title     146123 non-null object\n",
      "start_year         146144 non-null int64\n",
      "runtime_minutes    114405 non-null float64\n",
      "genres             140736 non-null object\n",
      "dtypes: float64(1), int64(1), object(4)\n",
      "memory usage: 6.7+ MB\n"
     ]
    },
    {
     "data": {
      "text/plain": [
       "None"
      ]
     },
     "metadata": {},
     "output_type": "display_data"
    }
   ],
   "source": [
    "df2 = pd.read_csv('zippedData/imdb.title.basics.csv.gz')\n",
    "display(df2.head())\n",
    "display(df2.info())"
   ]
  },
  {
   "cell_type": "code",
   "execution_count": 278,
   "metadata": {
    "scrolled": true
   },
   "outputs": [
    {
     "data": {
      "text/html": [
       "<div>\n",
       "<style scoped>\n",
       "    .dataframe tbody tr th:only-of-type {\n",
       "        vertical-align: middle;\n",
       "    }\n",
       "\n",
       "    .dataframe tbody tr th {\n",
       "        vertical-align: top;\n",
       "    }\n",
       "\n",
       "    .dataframe thead th {\n",
       "        text-align: right;\n",
       "    }\n",
       "</style>\n",
       "<table border=\"1\" class=\"dataframe\">\n",
       "  <thead>\n",
       "    <tr style=\"text-align: right;\">\n",
       "      <th></th>\n",
       "      <th>tconst</th>\n",
       "      <th>directors</th>\n",
       "      <th>writers</th>\n",
       "    </tr>\n",
       "  </thead>\n",
       "  <tbody>\n",
       "    <tr>\n",
       "      <td>0</td>\n",
       "      <td>tt0285252</td>\n",
       "      <td>nm0899854</td>\n",
       "      <td>nm0899854</td>\n",
       "    </tr>\n",
       "    <tr>\n",
       "      <td>1</td>\n",
       "      <td>tt0438973</td>\n",
       "      <td>NaN</td>\n",
       "      <td>nm0175726,nm1802864</td>\n",
       "    </tr>\n",
       "    <tr>\n",
       "      <td>2</td>\n",
       "      <td>tt0462036</td>\n",
       "      <td>nm1940585</td>\n",
       "      <td>nm1940585</td>\n",
       "    </tr>\n",
       "    <tr>\n",
       "      <td>3</td>\n",
       "      <td>tt0835418</td>\n",
       "      <td>nm0151540</td>\n",
       "      <td>nm0310087,nm0841532</td>\n",
       "    </tr>\n",
       "    <tr>\n",
       "      <td>4</td>\n",
       "      <td>tt0878654</td>\n",
       "      <td>nm0089502,nm2291498,nm2292011</td>\n",
       "      <td>nm0284943</td>\n",
       "    </tr>\n",
       "  </tbody>\n",
       "</table>\n",
       "</div>"
      ],
      "text/plain": [
       "      tconst                      directors              writers\n",
       "0  tt0285252                      nm0899854            nm0899854\n",
       "1  tt0438973                            NaN  nm0175726,nm1802864\n",
       "2  tt0462036                      nm1940585            nm1940585\n",
       "3  tt0835418                      nm0151540  nm0310087,nm0841532\n",
       "4  tt0878654  nm0089502,nm2291498,nm2292011            nm0284943"
      ]
     },
     "metadata": {},
     "output_type": "display_data"
    },
    {
     "name": "stdout",
     "output_type": "stream",
     "text": [
      "<class 'pandas.core.frame.DataFrame'>\n",
      "RangeIndex: 146144 entries, 0 to 146143\n",
      "Data columns (total 3 columns):\n",
      "tconst       146144 non-null object\n",
      "directors    140417 non-null object\n",
      "writers      110261 non-null object\n",
      "dtypes: object(3)\n",
      "memory usage: 3.3+ MB\n"
     ]
    },
    {
     "data": {
      "text/plain": [
       "None"
      ]
     },
     "metadata": {},
     "output_type": "display_data"
    }
   ],
   "source": [
    "df3 = pd.read_csv('zippedData/imdb.title.crew.csv.gz')\n",
    "display(df3.head())\n",
    "display(df3.info())"
   ]
  },
  {
   "cell_type": "markdown",
   "metadata": {},
   "source": [
    "Cleaning Data\n",
    "\n",
    "starting with df2\n",
    "1. drop start_year, original_title\n",
    "2. change primary title to movie_title\n",
    "3. de capitalize all movie titles\n",
    "4. de capitalize call genres (may have to do this later)\n",
    "3. make runtime_minutes into int64\n",
    "\n",
    "after join (get rid of duplicated an nan rows)"
   ]
  },
  {
   "cell_type": "code",
   "execution_count": 279,
   "metadata": {},
   "outputs": [],
   "source": [
    "df2 = df2.drop(['original_title', 'start_year'], axis =1)"
   ]
  },
  {
   "cell_type": "code",
   "execution_count": 280,
   "metadata": {},
   "outputs": [],
   "source": [
    "df2 = df2.rename(columns={'primary_title' : 'movie_title'})"
   ]
  },
  {
   "cell_type": "code",
   "execution_count": 281,
   "metadata": {},
   "outputs": [],
   "source": [
    "df2['movie_title'] = df2['movie_title'].apply(lambda x: x.lower())"
   ]
  },
  {
   "cell_type": "code",
   "execution_count": 282,
   "metadata": {},
   "outputs": [],
   "source": [
    "df2['genres'] = df2['genres'].str.lower()"
   ]
  },
  {
   "cell_type": "code",
   "execution_count": 283,
   "metadata": {},
   "outputs": [
    {
     "data": {
      "text/html": [
       "<div>\n",
       "<style scoped>\n",
       "    .dataframe tbody tr th:only-of-type {\n",
       "        vertical-align: middle;\n",
       "    }\n",
       "\n",
       "    .dataframe tbody tr th {\n",
       "        vertical-align: top;\n",
       "    }\n",
       "\n",
       "    .dataframe thead th {\n",
       "        text-align: right;\n",
       "    }\n",
       "</style>\n",
       "<table border=\"1\" class=\"dataframe\">\n",
       "  <thead>\n",
       "    <tr style=\"text-align: right;\">\n",
       "      <th></th>\n",
       "      <th>tconst</th>\n",
       "      <th>movie_title</th>\n",
       "      <th>runtime_minutes</th>\n",
       "      <th>genres</th>\n",
       "    </tr>\n",
       "  </thead>\n",
       "  <tbody>\n",
       "    <tr>\n",
       "      <td>0</td>\n",
       "      <td>tt0063540</td>\n",
       "      <td>sunghursh</td>\n",
       "      <td>175.0</td>\n",
       "      <td>action,crime,drama</td>\n",
       "    </tr>\n",
       "    <tr>\n",
       "      <td>1</td>\n",
       "      <td>tt0066787</td>\n",
       "      <td>one day before the rainy season</td>\n",
       "      <td>114.0</td>\n",
       "      <td>biography,drama</td>\n",
       "    </tr>\n",
       "    <tr>\n",
       "      <td>2</td>\n",
       "      <td>tt0069049</td>\n",
       "      <td>the other side of the wind</td>\n",
       "      <td>122.0</td>\n",
       "      <td>drama</td>\n",
       "    </tr>\n",
       "    <tr>\n",
       "      <td>3</td>\n",
       "      <td>tt0069204</td>\n",
       "      <td>sabse bada sukh</td>\n",
       "      <td>NaN</td>\n",
       "      <td>comedy,drama</td>\n",
       "    </tr>\n",
       "    <tr>\n",
       "      <td>4</td>\n",
       "      <td>tt0100275</td>\n",
       "      <td>the wandering soap opera</td>\n",
       "      <td>80.0</td>\n",
       "      <td>comedy,drama,fantasy</td>\n",
       "    </tr>\n",
       "  </tbody>\n",
       "</table>\n",
       "</div>"
      ],
      "text/plain": [
       "      tconst                      movie_title  runtime_minutes  \\\n",
       "0  tt0063540                        sunghursh            175.0   \n",
       "1  tt0066787  one day before the rainy season            114.0   \n",
       "2  tt0069049       the other side of the wind            122.0   \n",
       "3  tt0069204                  sabse bada sukh              NaN   \n",
       "4  tt0100275         the wandering soap opera             80.0   \n",
       "\n",
       "                 genres  \n",
       "0    action,crime,drama  \n",
       "1       biography,drama  \n",
       "2                 drama  \n",
       "3          comedy,drama  \n",
       "4  comedy,drama,fantasy  "
      ]
     },
     "execution_count": 283,
     "metadata": {},
     "output_type": "execute_result"
    }
   ],
   "source": [
    "df2.head()"
   ]
  },
  {
   "cell_type": "markdown",
   "metadata": {},
   "source": [
    "moving to df3\n",
    "1. Join df2 and df3 to make df4\n",
    "2. check for duplicate rows\n",
    "3. get rid of rows with a missing value"
   ]
  },
  {
   "cell_type": "code",
   "execution_count": 284,
   "metadata": {},
   "outputs": [],
   "source": [
    "q4 = \"\"\" SELECT * \n",
    "         FROM df2\n",
    "         JOIN df3\n",
    "         USING (tconst)\"\"\"\n",
    "df4 = pysqldf(q4)"
   ]
  },
  {
   "cell_type": "code",
   "execution_count": 285,
   "metadata": {},
   "outputs": [
    {
     "data": {
      "text/html": [
       "<div>\n",
       "<style scoped>\n",
       "    .dataframe tbody tr th:only-of-type {\n",
       "        vertical-align: middle;\n",
       "    }\n",
       "\n",
       "    .dataframe tbody tr th {\n",
       "        vertical-align: top;\n",
       "    }\n",
       "\n",
       "    .dataframe thead th {\n",
       "        text-align: right;\n",
       "    }\n",
       "</style>\n",
       "<table border=\"1\" class=\"dataframe\">\n",
       "  <thead>\n",
       "    <tr style=\"text-align: right;\">\n",
       "      <th></th>\n",
       "      <th>tconst</th>\n",
       "      <th>movie_title</th>\n",
       "      <th>runtime_minutes</th>\n",
       "      <th>genres</th>\n",
       "      <th>directors</th>\n",
       "      <th>writers</th>\n",
       "    </tr>\n",
       "  </thead>\n",
       "  <tbody>\n",
       "    <tr>\n",
       "      <td>0</td>\n",
       "      <td>tt0063540</td>\n",
       "      <td>sunghursh</td>\n",
       "      <td>175.0</td>\n",
       "      <td>action,crime,drama</td>\n",
       "      <td>nm0712540</td>\n",
       "      <td>nm0023551,nm1194313,nm0347899,nm1391276</td>\n",
       "    </tr>\n",
       "    <tr>\n",
       "      <td>1</td>\n",
       "      <td>tt0066787</td>\n",
       "      <td>one day before the rainy season</td>\n",
       "      <td>114.0</td>\n",
       "      <td>biography,drama</td>\n",
       "      <td>nm0002411</td>\n",
       "      <td>None</td>\n",
       "    </tr>\n",
       "    <tr>\n",
       "      <td>2</td>\n",
       "      <td>tt0069049</td>\n",
       "      <td>the other side of the wind</td>\n",
       "      <td>122.0</td>\n",
       "      <td>drama</td>\n",
       "      <td>nm0000080</td>\n",
       "      <td>nm0000080,nm0462648</td>\n",
       "    </tr>\n",
       "    <tr>\n",
       "      <td>3</td>\n",
       "      <td>tt0069204</td>\n",
       "      <td>sabse bada sukh</td>\n",
       "      <td>NaN</td>\n",
       "      <td>comedy,drama</td>\n",
       "      <td>nm0611531</td>\n",
       "      <td>nm0347899</td>\n",
       "    </tr>\n",
       "    <tr>\n",
       "      <td>4</td>\n",
       "      <td>tt0100275</td>\n",
       "      <td>the wandering soap opera</td>\n",
       "      <td>80.0</td>\n",
       "      <td>comedy,drama,fantasy</td>\n",
       "      <td>nm0765384,nm0749914</td>\n",
       "      <td>nm1360635,nm0749914</td>\n",
       "    </tr>\n",
       "  </tbody>\n",
       "</table>\n",
       "</div>"
      ],
      "text/plain": [
       "      tconst                      movie_title  runtime_minutes  \\\n",
       "0  tt0063540                        sunghursh            175.0   \n",
       "1  tt0066787  one day before the rainy season            114.0   \n",
       "2  tt0069049       the other side of the wind            122.0   \n",
       "3  tt0069204                  sabse bada sukh              NaN   \n",
       "4  tt0100275         the wandering soap opera             80.0   \n",
       "\n",
       "                 genres            directors  \\\n",
       "0    action,crime,drama            nm0712540   \n",
       "1       biography,drama            nm0002411   \n",
       "2                 drama            nm0000080   \n",
       "3          comedy,drama            nm0611531   \n",
       "4  comedy,drama,fantasy  nm0765384,nm0749914   \n",
       "\n",
       "                                   writers  \n",
       "0  nm0023551,nm1194313,nm0347899,nm1391276  \n",
       "1                                     None  \n",
       "2                      nm0000080,nm0462648  \n",
       "3                                nm0347899  \n",
       "4                      nm1360635,nm0749914  "
      ]
     },
     "execution_count": 285,
     "metadata": {},
     "output_type": "execute_result"
    }
   ],
   "source": [
    "df4.head()"
   ]
  },
  {
   "cell_type": "code",
   "execution_count": 286,
   "metadata": {},
   "outputs": [
    {
     "data": {
      "text/html": [
       "<div>\n",
       "<style scoped>\n",
       "    .dataframe tbody tr th:only-of-type {\n",
       "        vertical-align: middle;\n",
       "    }\n",
       "\n",
       "    .dataframe tbody tr th {\n",
       "        vertical-align: top;\n",
       "    }\n",
       "\n",
       "    .dataframe thead th {\n",
       "        text-align: right;\n",
       "    }\n",
       "</style>\n",
       "<table border=\"1\" class=\"dataframe\">\n",
       "  <thead>\n",
       "    <tr style=\"text-align: right;\">\n",
       "      <th></th>\n",
       "      <th>tconst</th>\n",
       "      <th>movie_title</th>\n",
       "      <th>runtime_minutes</th>\n",
       "      <th>genres</th>\n",
       "      <th>directors</th>\n",
       "      <th>writers</th>\n",
       "    </tr>\n",
       "  </thead>\n",
       "  <tbody>\n",
       "  </tbody>\n",
       "</table>\n",
       "</div>"
      ],
      "text/plain": [
       "Empty DataFrame\n",
       "Columns: [tconst, movie_title, runtime_minutes, genres, directors, writers]\n",
       "Index: []"
      ]
     },
     "execution_count": 286,
     "metadata": {},
     "output_type": "execute_result"
    }
   ],
   "source": [
    "df4[df4.duplicated()] #okay so no duplicates thats good"
   ]
  },
  {
   "cell_type": "code",
   "execution_count": 287,
   "metadata": {},
   "outputs": [
    {
     "data": {
      "text/html": [
       "<div>\n",
       "<style scoped>\n",
       "    .dataframe tbody tr th:only-of-type {\n",
       "        vertical-align: middle;\n",
       "    }\n",
       "\n",
       "    .dataframe tbody tr th {\n",
       "        vertical-align: top;\n",
       "    }\n",
       "\n",
       "    .dataframe thead th {\n",
       "        text-align: right;\n",
       "    }\n",
       "</style>\n",
       "<table border=\"1\" class=\"dataframe\">\n",
       "  <thead>\n",
       "    <tr style=\"text-align: right;\">\n",
       "      <th></th>\n",
       "      <th>tconst</th>\n",
       "      <th>movie_title</th>\n",
       "      <th>runtime_minutes</th>\n",
       "      <th>genres</th>\n",
       "      <th>directors</th>\n",
       "      <th>writers</th>\n",
       "    </tr>\n",
       "  </thead>\n",
       "  <tbody>\n",
       "  </tbody>\n",
       "</table>\n",
       "</div>"
      ],
      "text/plain": [
       "Empty DataFrame\n",
       "Columns: [tconst, movie_title, runtime_minutes, genres, directors, writers]\n",
       "Index: []"
      ]
     },
     "execution_count": 287,
     "metadata": {},
     "output_type": "execute_result"
    }
   ],
   "source": [
    "df4[df4.duplicated(subset='tconst')] #being extra careful to confirm"
   ]
  },
  {
   "cell_type": "code",
   "execution_count": 288,
   "metadata": {},
   "outputs": [
    {
     "data": {
      "text/plain": [
       "tconst                 0\n",
       "movie_title            0\n",
       "runtime_minutes    31739\n",
       "genres              5408\n",
       "directors           5727\n",
       "writers            35883\n",
       "dtype: int64"
      ]
     },
     "execution_count": 288,
     "metadata": {},
     "output_type": "execute_result"
    }
   ],
   "source": [
    "df4.isna().sum() #runtime is more important that writers - lets delete all rows where runtime is \n",
    "                 #actually lets deal with missing values after we join with df1"
   ]
  },
  {
   "cell_type": "markdown",
   "metadata": {},
   "source": [
    "moving to df1\n",
    "1. format release data\n",
    "2. Add day of the week column\n",
    "3. Add month column\n",
    "2. format the money columns\n",
    "3. rename movie columns\n",
    "4. make ROI column"
   ]
  },
  {
   "cell_type": "code",
   "execution_count": 289,
   "metadata": {
    "scrolled": true
   },
   "outputs": [
    {
     "data": {
      "text/html": [
       "<div>\n",
       "<style scoped>\n",
       "    .dataframe tbody tr th:only-of-type {\n",
       "        vertical-align: middle;\n",
       "    }\n",
       "\n",
       "    .dataframe tbody tr th {\n",
       "        vertical-align: top;\n",
       "    }\n",
       "\n",
       "    .dataframe thead th {\n",
       "        text-align: right;\n",
       "    }\n",
       "</style>\n",
       "<table border=\"1\" class=\"dataframe\">\n",
       "  <thead>\n",
       "    <tr style=\"text-align: right;\">\n",
       "      <th></th>\n",
       "      <th>id</th>\n",
       "      <th>release_date</th>\n",
       "      <th>movie</th>\n",
       "      <th>production_budget</th>\n",
       "      <th>domestic_gross</th>\n",
       "      <th>worldwide_gross</th>\n",
       "    </tr>\n",
       "  </thead>\n",
       "  <tbody>\n",
       "    <tr>\n",
       "      <td>0</td>\n",
       "      <td>1</td>\n",
       "      <td>2009-12-18</td>\n",
       "      <td>Avatar</td>\n",
       "      <td>$425,000,000</td>\n",
       "      <td>$760,507,625</td>\n",
       "      <td>$2,776,345,279</td>\n",
       "    </tr>\n",
       "    <tr>\n",
       "      <td>1</td>\n",
       "      <td>2</td>\n",
       "      <td>2011-05-20</td>\n",
       "      <td>Pirates of the Caribbean: On Stranger Tides</td>\n",
       "      <td>$410,600,000</td>\n",
       "      <td>$241,063,875</td>\n",
       "      <td>$1,045,663,875</td>\n",
       "    </tr>\n",
       "    <tr>\n",
       "      <td>2</td>\n",
       "      <td>3</td>\n",
       "      <td>2019-06-07</td>\n",
       "      <td>Dark Phoenix</td>\n",
       "      <td>$350,000,000</td>\n",
       "      <td>$42,762,350</td>\n",
       "      <td>$149,762,350</td>\n",
       "    </tr>\n",
       "    <tr>\n",
       "      <td>3</td>\n",
       "      <td>4</td>\n",
       "      <td>2015-05-01</td>\n",
       "      <td>Avengers: Age of Ultron</td>\n",
       "      <td>$330,600,000</td>\n",
       "      <td>$459,005,868</td>\n",
       "      <td>$1,403,013,963</td>\n",
       "    </tr>\n",
       "    <tr>\n",
       "      <td>4</td>\n",
       "      <td>5</td>\n",
       "      <td>2017-12-15</td>\n",
       "      <td>Star Wars Ep. VIII: The Last Jedi</td>\n",
       "      <td>$317,000,000</td>\n",
       "      <td>$620,181,382</td>\n",
       "      <td>$1,316,721,747</td>\n",
       "    </tr>\n",
       "  </tbody>\n",
       "</table>\n",
       "</div>"
      ],
      "text/plain": [
       "   id release_date                                        movie  \\\n",
       "0   1   2009-12-18                                       Avatar   \n",
       "1   2   2011-05-20  Pirates of the Caribbean: On Stranger Tides   \n",
       "2   3   2019-06-07                                 Dark Phoenix   \n",
       "3   4   2015-05-01                      Avengers: Age of Ultron   \n",
       "4   5   2017-12-15            Star Wars Ep. VIII: The Last Jedi   \n",
       "\n",
       "  production_budget domestic_gross worldwide_gross  \n",
       "0      $425,000,000   $760,507,625  $2,776,345,279  \n",
       "1      $410,600,000   $241,063,875  $1,045,663,875  \n",
       "2      $350,000,000    $42,762,350    $149,762,350  \n",
       "3      $330,600,000   $459,005,868  $1,403,013,963  \n",
       "4      $317,000,000   $620,181,382  $1,316,721,747  "
      ]
     },
     "execution_count": 289,
     "metadata": {},
     "output_type": "execute_result"
    }
   ],
   "source": [
    "df1['release_date'] = pd.to_datetime(df1['release_date'])\n",
    "df1.head()"
   ]
  },
  {
   "cell_type": "code",
   "execution_count": 290,
   "metadata": {},
   "outputs": [],
   "source": [
    "df1['movie'] = df1['movie'].str.lower()"
   ]
  },
  {
   "cell_type": "code",
   "execution_count": 291,
   "metadata": {},
   "outputs": [],
   "source": [
    "df1['release_day'] = df1['release_date'].dt.day_name()"
   ]
  },
  {
   "cell_type": "code",
   "execution_count": 292,
   "metadata": {},
   "outputs": [],
   "source": [
    "df1['release_month'] = df1['release_date'].dt.month_name()"
   ]
  },
  {
   "cell_type": "code",
   "execution_count": 293,
   "metadata": {},
   "outputs": [],
   "source": [
    "df1['release_year'] = pd.DatetimeIndex(df1['release_date']).year"
   ]
  },
  {
   "cell_type": "code",
   "execution_count": 294,
   "metadata": {},
   "outputs": [],
   "source": [
    "df1['production_budget'] = df1['production_budget'].apply(lambda x: x.replace('$','')).apply(lambda x: x.replace(',','')).astype(np.int64)\n",
    "df1['domestic_gross'] = df1['domestic_gross'].apply(lambda x: x.replace('$','')).apply(lambda x: x.replace(',','')).astype(np.int64)\n",
    "df1['worldwide_gross'] = df1['worldwide_gross'].apply(lambda x: x.replace('$','')).apply(lambda x: x.replace(',','')).astype(np.int64)"
   ]
  },
  {
   "cell_type": "code",
   "execution_count": 295,
   "metadata": {
    "scrolled": true
   },
   "outputs": [
    {
     "data": {
      "text/html": [
       "<div>\n",
       "<style scoped>\n",
       "    .dataframe tbody tr th:only-of-type {\n",
       "        vertical-align: middle;\n",
       "    }\n",
       "\n",
       "    .dataframe tbody tr th {\n",
       "        vertical-align: top;\n",
       "    }\n",
       "\n",
       "    .dataframe thead th {\n",
       "        text-align: right;\n",
       "    }\n",
       "</style>\n",
       "<table border=\"1\" class=\"dataframe\">\n",
       "  <thead>\n",
       "    <tr style=\"text-align: right;\">\n",
       "      <th></th>\n",
       "      <th>id</th>\n",
       "      <th>release_date</th>\n",
       "      <th>movie</th>\n",
       "      <th>production_budget</th>\n",
       "      <th>domestic_gross</th>\n",
       "      <th>worldwide_gross</th>\n",
       "      <th>release_day</th>\n",
       "      <th>release_month</th>\n",
       "      <th>release_year</th>\n",
       "    </tr>\n",
       "  </thead>\n",
       "  <tbody>\n",
       "    <tr>\n",
       "      <td>0</td>\n",
       "      <td>1</td>\n",
       "      <td>2009-12-18</td>\n",
       "      <td>avatar</td>\n",
       "      <td>425000000</td>\n",
       "      <td>760507625</td>\n",
       "      <td>2776345279</td>\n",
       "      <td>Friday</td>\n",
       "      <td>December</td>\n",
       "      <td>2009</td>\n",
       "    </tr>\n",
       "    <tr>\n",
       "      <td>1</td>\n",
       "      <td>2</td>\n",
       "      <td>2011-05-20</td>\n",
       "      <td>pirates of the caribbean: on stranger tides</td>\n",
       "      <td>410600000</td>\n",
       "      <td>241063875</td>\n",
       "      <td>1045663875</td>\n",
       "      <td>Friday</td>\n",
       "      <td>May</td>\n",
       "      <td>2011</td>\n",
       "    </tr>\n",
       "    <tr>\n",
       "      <td>2</td>\n",
       "      <td>3</td>\n",
       "      <td>2019-06-07</td>\n",
       "      <td>dark phoenix</td>\n",
       "      <td>350000000</td>\n",
       "      <td>42762350</td>\n",
       "      <td>149762350</td>\n",
       "      <td>Friday</td>\n",
       "      <td>June</td>\n",
       "      <td>2019</td>\n",
       "    </tr>\n",
       "    <tr>\n",
       "      <td>3</td>\n",
       "      <td>4</td>\n",
       "      <td>2015-05-01</td>\n",
       "      <td>avengers: age of ultron</td>\n",
       "      <td>330600000</td>\n",
       "      <td>459005868</td>\n",
       "      <td>1403013963</td>\n",
       "      <td>Friday</td>\n",
       "      <td>May</td>\n",
       "      <td>2015</td>\n",
       "    </tr>\n",
       "    <tr>\n",
       "      <td>4</td>\n",
       "      <td>5</td>\n",
       "      <td>2017-12-15</td>\n",
       "      <td>star wars ep. viii: the last jedi</td>\n",
       "      <td>317000000</td>\n",
       "      <td>620181382</td>\n",
       "      <td>1316721747</td>\n",
       "      <td>Friday</td>\n",
       "      <td>December</td>\n",
       "      <td>2017</td>\n",
       "    </tr>\n",
       "  </tbody>\n",
       "</table>\n",
       "</div>"
      ],
      "text/plain": [
       "   id release_date                                        movie  \\\n",
       "0   1   2009-12-18                                       avatar   \n",
       "1   2   2011-05-20  pirates of the caribbean: on stranger tides   \n",
       "2   3   2019-06-07                                 dark phoenix   \n",
       "3   4   2015-05-01                      avengers: age of ultron   \n",
       "4   5   2017-12-15            star wars ep. viii: the last jedi   \n",
       "\n",
       "   production_budget  domestic_gross  worldwide_gross release_day  \\\n",
       "0          425000000       760507625       2776345279      Friday   \n",
       "1          410600000       241063875       1045663875      Friday   \n",
       "2          350000000        42762350        149762350      Friday   \n",
       "3          330600000       459005868       1403013963      Friday   \n",
       "4          317000000       620181382       1316721747      Friday   \n",
       "\n",
       "  release_month  release_year  \n",
       "0      December          2009  \n",
       "1           May          2011  \n",
       "2          June          2019  \n",
       "3           May          2015  \n",
       "4      December          2017  "
      ]
     },
     "execution_count": 295,
     "metadata": {},
     "output_type": "execute_result"
    }
   ],
   "source": [
    "df1.head() #everything is in order to far"
   ]
  },
  {
   "cell_type": "code",
   "execution_count": 296,
   "metadata": {},
   "outputs": [],
   "source": [
    "df1['revenue'] = df1['worldwide_gross'] + df1['domestic_gross']"
   ]
  },
  {
   "cell_type": "code",
   "execution_count": 297,
   "metadata": {},
   "outputs": [],
   "source": [
    "df1['profit'] = (df1['revenue'] - df1['production_budget'])"
   ]
  },
  {
   "cell_type": "code",
   "execution_count": 298,
   "metadata": {},
   "outputs": [],
   "source": [
    "df1['roi'] = df1['profit']/df1['production_budget']"
   ]
  },
  {
   "cell_type": "code",
   "execution_count": 299,
   "metadata": {},
   "outputs": [],
   "source": [
    "df1 = df1.drop(['domestic_gross', 'worldwide_gross'], axis = 1)"
   ]
  },
  {
   "cell_type": "code",
   "execution_count": 300,
   "metadata": {},
   "outputs": [],
   "source": [
    "df1 = df1.rename(columns={'movie' : 'movie_title'})"
   ]
  },
  {
   "cell_type": "code",
   "execution_count": 301,
   "metadata": {},
   "outputs": [
    {
     "data": {
      "text/html": [
       "<div>\n",
       "<style scoped>\n",
       "    .dataframe tbody tr th:only-of-type {\n",
       "        vertical-align: middle;\n",
       "    }\n",
       "\n",
       "    .dataframe tbody tr th {\n",
       "        vertical-align: top;\n",
       "    }\n",
       "\n",
       "    .dataframe thead th {\n",
       "        text-align: right;\n",
       "    }\n",
       "</style>\n",
       "<table border=\"1\" class=\"dataframe\">\n",
       "  <thead>\n",
       "    <tr style=\"text-align: right;\">\n",
       "      <th></th>\n",
       "      <th>id</th>\n",
       "      <th>release_date</th>\n",
       "      <th>movie_title</th>\n",
       "      <th>production_budget</th>\n",
       "      <th>release_day</th>\n",
       "      <th>release_month</th>\n",
       "      <th>release_year</th>\n",
       "      <th>revenue</th>\n",
       "      <th>profit</th>\n",
       "      <th>roi</th>\n",
       "    </tr>\n",
       "  </thead>\n",
       "  <tbody>\n",
       "    <tr>\n",
       "      <td>0</td>\n",
       "      <td>1</td>\n",
       "      <td>2009-12-18</td>\n",
       "      <td>avatar</td>\n",
       "      <td>425000000</td>\n",
       "      <td>Friday</td>\n",
       "      <td>December</td>\n",
       "      <td>2009</td>\n",
       "      <td>3536852904</td>\n",
       "      <td>3111852904</td>\n",
       "      <td>7.322007</td>\n",
       "    </tr>\n",
       "    <tr>\n",
       "      <td>1</td>\n",
       "      <td>2</td>\n",
       "      <td>2011-05-20</td>\n",
       "      <td>pirates of the caribbean: on stranger tides</td>\n",
       "      <td>410600000</td>\n",
       "      <td>Friday</td>\n",
       "      <td>May</td>\n",
       "      <td>2011</td>\n",
       "      <td>1286727750</td>\n",
       "      <td>876127750</td>\n",
       "      <td>2.133774</td>\n",
       "    </tr>\n",
       "    <tr>\n",
       "      <td>2</td>\n",
       "      <td>3</td>\n",
       "      <td>2019-06-07</td>\n",
       "      <td>dark phoenix</td>\n",
       "      <td>350000000</td>\n",
       "      <td>Friday</td>\n",
       "      <td>June</td>\n",
       "      <td>2019</td>\n",
       "      <td>192524700</td>\n",
       "      <td>-157475300</td>\n",
       "      <td>-0.449929</td>\n",
       "    </tr>\n",
       "    <tr>\n",
       "      <td>3</td>\n",
       "      <td>4</td>\n",
       "      <td>2015-05-01</td>\n",
       "      <td>avengers: age of ultron</td>\n",
       "      <td>330600000</td>\n",
       "      <td>Friday</td>\n",
       "      <td>May</td>\n",
       "      <td>2015</td>\n",
       "      <td>1862019831</td>\n",
       "      <td>1531419831</td>\n",
       "      <td>4.632244</td>\n",
       "    </tr>\n",
       "    <tr>\n",
       "      <td>4</td>\n",
       "      <td>5</td>\n",
       "      <td>2017-12-15</td>\n",
       "      <td>star wars ep. viii: the last jedi</td>\n",
       "      <td>317000000</td>\n",
       "      <td>Friday</td>\n",
       "      <td>December</td>\n",
       "      <td>2017</td>\n",
       "      <td>1936903129</td>\n",
       "      <td>1619903129</td>\n",
       "      <td>5.110105</td>\n",
       "    </tr>\n",
       "  </tbody>\n",
       "</table>\n",
       "</div>"
      ],
      "text/plain": [
       "   id release_date                                  movie_title  \\\n",
       "0   1   2009-12-18                                       avatar   \n",
       "1   2   2011-05-20  pirates of the caribbean: on stranger tides   \n",
       "2   3   2019-06-07                                 dark phoenix   \n",
       "3   4   2015-05-01                      avengers: age of ultron   \n",
       "4   5   2017-12-15            star wars ep. viii: the last jedi   \n",
       "\n",
       "   production_budget release_day release_month  release_year     revenue  \\\n",
       "0          425000000      Friday      December          2009  3536852904   \n",
       "1          410600000      Friday           May          2011  1286727750   \n",
       "2          350000000      Friday          June          2019   192524700   \n",
       "3          330600000      Friday           May          2015  1862019831   \n",
       "4          317000000      Friday      December          2017  1936903129   \n",
       "\n",
       "       profit       roi  \n",
       "0  3111852904  7.322007  \n",
       "1   876127750  2.133774  \n",
       "2  -157475300 -0.449929  \n",
       "3  1531419831  4.632244  \n",
       "4  1619903129  5.110105  "
      ]
     },
     "execution_count": 301,
     "metadata": {},
     "output_type": "execute_result"
    }
   ],
   "source": [
    "df1.head()"
   ]
  },
  {
   "cell_type": "markdown",
   "metadata": {},
   "source": [
    "1. Join df4 with df1 using movie_title to make df5\n",
    "2. check for duplicates\n",
    "3. treat missing values"
   ]
  },
  {
   "cell_type": "code",
   "execution_count": 302,
   "metadata": {},
   "outputs": [],
   "source": [
    "q5 = \"\"\"SELECT * \n",
    "        FROM df4\n",
    "        JOIN df1\n",
    "        USING (movie_title);\"\"\"\n",
    "df5 = pysqldf(q5)"
   ]
  },
  {
   "cell_type": "code",
   "execution_count": 303,
   "metadata": {},
   "outputs": [
    {
     "data": {
      "text/html": [
       "<div>\n",
       "<style scoped>\n",
       "    .dataframe tbody tr th:only-of-type {\n",
       "        vertical-align: middle;\n",
       "    }\n",
       "\n",
       "    .dataframe tbody tr th {\n",
       "        vertical-align: top;\n",
       "    }\n",
       "\n",
       "    .dataframe thead th {\n",
       "        text-align: right;\n",
       "    }\n",
       "</style>\n",
       "<table border=\"1\" class=\"dataframe\">\n",
       "  <thead>\n",
       "    <tr style=\"text-align: right;\">\n",
       "      <th></th>\n",
       "      <th>tconst</th>\n",
       "      <th>movie_title</th>\n",
       "      <th>runtime_minutes</th>\n",
       "      <th>genres</th>\n",
       "      <th>directors</th>\n",
       "      <th>writers</th>\n",
       "      <th>id</th>\n",
       "      <th>release_date</th>\n",
       "      <th>production_budget</th>\n",
       "      <th>release_day</th>\n",
       "      <th>release_month</th>\n",
       "      <th>release_year</th>\n",
       "      <th>revenue</th>\n",
       "      <th>profit</th>\n",
       "      <th>roi</th>\n",
       "    </tr>\n",
       "  </thead>\n",
       "  <tbody>\n",
       "    <tr>\n",
       "      <td>0</td>\n",
       "      <td>tt0249516</td>\n",
       "      <td>foodfight!</td>\n",
       "      <td>91.0</td>\n",
       "      <td>action,animation,comedy</td>\n",
       "      <td>nm0440415</td>\n",
       "      <td>nm0440415,nm0923312,nm0295165,nm0841854,nm0220297</td>\n",
       "      <td>26</td>\n",
       "      <td>2012-12-31 00:00:00.000000</td>\n",
       "      <td>45000000</td>\n",
       "      <td>Monday</td>\n",
       "      <td>December</td>\n",
       "      <td>2012</td>\n",
       "      <td>73706</td>\n",
       "      <td>-44926294</td>\n",
       "      <td>-0.998362</td>\n",
       "    </tr>\n",
       "    <tr>\n",
       "      <td>1</td>\n",
       "      <td>tt0293429</td>\n",
       "      <td>mortal kombat</td>\n",
       "      <td>NaN</td>\n",
       "      <td>action,adventure,fantasy</td>\n",
       "      <td>nm2585406</td>\n",
       "      <td>nm3859643</td>\n",
       "      <td>10</td>\n",
       "      <td>1995-08-18 00:00:00.000000</td>\n",
       "      <td>20000000</td>\n",
       "      <td>Friday</td>\n",
       "      <td>August</td>\n",
       "      <td>1995</td>\n",
       "      <td>192566454</td>\n",
       "      <td>172566454</td>\n",
       "      <td>8.628323</td>\n",
       "    </tr>\n",
       "    <tr>\n",
       "      <td>2</td>\n",
       "      <td>tt0326592</td>\n",
       "      <td>the overnight</td>\n",
       "      <td>88.0</td>\n",
       "      <td>None</td>\n",
       "      <td>nm1208371</td>\n",
       "      <td>nm1170333,nm1208371</td>\n",
       "      <td>21</td>\n",
       "      <td>2015-06-19 00:00:00.000000</td>\n",
       "      <td>200000</td>\n",
       "      <td>Friday</td>\n",
       "      <td>June</td>\n",
       "      <td>2015</td>\n",
       "      <td>2275804</td>\n",
       "      <td>2075804</td>\n",
       "      <td>10.379020</td>\n",
       "    </tr>\n",
       "    <tr>\n",
       "      <td>3</td>\n",
       "      <td>tt0337692</td>\n",
       "      <td>on the road</td>\n",
       "      <td>124.0</td>\n",
       "      <td>adventure,drama,romance</td>\n",
       "      <td>nm0758574</td>\n",
       "      <td>nm0449616,nm1433580</td>\n",
       "      <td>17</td>\n",
       "      <td>2013-03-22 00:00:00.000000</td>\n",
       "      <td>25000000</td>\n",
       "      <td>Friday</td>\n",
       "      <td>March</td>\n",
       "      <td>2013</td>\n",
       "      <td>10034130</td>\n",
       "      <td>-14965870</td>\n",
       "      <td>-0.598635</td>\n",
       "    </tr>\n",
       "    <tr>\n",
       "      <td>4</td>\n",
       "      <td>tt0359950</td>\n",
       "      <td>the secret life of walter mitty</td>\n",
       "      <td>114.0</td>\n",
       "      <td>adventure,comedy,drama</td>\n",
       "      <td>nm0001774</td>\n",
       "      <td>nm0175726,nm0862122</td>\n",
       "      <td>37</td>\n",
       "      <td>2013-12-25 00:00:00.000000</td>\n",
       "      <td>91000000</td>\n",
       "      <td>Wednesday</td>\n",
       "      <td>December</td>\n",
       "      <td>2013</td>\n",
       "      <td>246098021</td>\n",
       "      <td>155098021</td>\n",
       "      <td>1.704374</td>\n",
       "    </tr>\n",
       "  </tbody>\n",
       "</table>\n",
       "</div>"
      ],
      "text/plain": [
       "      tconst                      movie_title  runtime_minutes  \\\n",
       "0  tt0249516                       foodfight!             91.0   \n",
       "1  tt0293429                    mortal kombat              NaN   \n",
       "2  tt0326592                    the overnight             88.0   \n",
       "3  tt0337692                      on the road            124.0   \n",
       "4  tt0359950  the secret life of walter mitty            114.0   \n",
       "\n",
       "                     genres  directors  \\\n",
       "0   action,animation,comedy  nm0440415   \n",
       "1  action,adventure,fantasy  nm2585406   \n",
       "2                      None  nm1208371   \n",
       "3   adventure,drama,romance  nm0758574   \n",
       "4    adventure,comedy,drama  nm0001774   \n",
       "\n",
       "                                             writers  id  \\\n",
       "0  nm0440415,nm0923312,nm0295165,nm0841854,nm0220297  26   \n",
       "1                                          nm3859643  10   \n",
       "2                                nm1170333,nm1208371  21   \n",
       "3                                nm0449616,nm1433580  17   \n",
       "4                                nm0175726,nm0862122  37   \n",
       "\n",
       "                 release_date  production_budget release_day release_month  \\\n",
       "0  2012-12-31 00:00:00.000000           45000000      Monday      December   \n",
       "1  1995-08-18 00:00:00.000000           20000000      Friday        August   \n",
       "2  2015-06-19 00:00:00.000000             200000      Friday          June   \n",
       "3  2013-03-22 00:00:00.000000           25000000      Friday         March   \n",
       "4  2013-12-25 00:00:00.000000           91000000   Wednesday      December   \n",
       "\n",
       "   release_year    revenue     profit        roi  \n",
       "0          2012      73706  -44926294  -0.998362  \n",
       "1          1995  192566454  172566454   8.628323  \n",
       "2          2015    2275804    2075804  10.379020  \n",
       "3          2013   10034130  -14965870  -0.598635  \n",
       "4          2013  246098021  155098021   1.704374  "
      ]
     },
     "execution_count": 303,
     "metadata": {},
     "output_type": "execute_result"
    }
   ],
   "source": [
    "df5.head()"
   ]
  },
  {
   "cell_type": "code",
   "execution_count": 304,
   "metadata": {},
   "outputs": [
    {
     "data": {
      "text/plain": [
       "3891"
      ]
     },
     "execution_count": 304,
     "metadata": {},
     "output_type": "execute_result"
    }
   ],
   "source": [
    "len(df5)"
   ]
  },
  {
   "cell_type": "markdown",
   "metadata": {},
   "source": [
    "#3815 is less than i thought i am going to de capitalize all movie titles in df1 and df4\n",
    "#nothing changed"
   ]
  },
  {
   "cell_type": "code",
   "execution_count": 305,
   "metadata": {},
   "outputs": [
    {
     "data": {
      "text/html": [
       "<div>\n",
       "<style scoped>\n",
       "    .dataframe tbody tr th:only-of-type {\n",
       "        vertical-align: middle;\n",
       "    }\n",
       "\n",
       "    .dataframe tbody tr th {\n",
       "        vertical-align: top;\n",
       "    }\n",
       "\n",
       "    .dataframe thead th {\n",
       "        text-align: right;\n",
       "    }\n",
       "</style>\n",
       "<table border=\"1\" class=\"dataframe\">\n",
       "  <thead>\n",
       "    <tr style=\"text-align: right;\">\n",
       "      <th></th>\n",
       "      <th>tconst</th>\n",
       "      <th>movie_title</th>\n",
       "      <th>runtime_minutes</th>\n",
       "      <th>genres</th>\n",
       "      <th>directors</th>\n",
       "      <th>writers</th>\n",
       "      <th>id</th>\n",
       "      <th>release_date</th>\n",
       "      <th>production_budget</th>\n",
       "      <th>release_day</th>\n",
       "      <th>release_month</th>\n",
       "      <th>release_year</th>\n",
       "      <th>revenue</th>\n",
       "      <th>profit</th>\n",
       "      <th>roi</th>\n",
       "    </tr>\n",
       "  </thead>\n",
       "  <tbody>\n",
       "  </tbody>\n",
       "</table>\n",
       "</div>"
      ],
      "text/plain": [
       "Empty DataFrame\n",
       "Columns: [tconst, movie_title, runtime_minutes, genres, directors, writers, id, release_date, production_budget, release_day, release_month, release_year, revenue, profit, roi]\n",
       "Index: []"
      ]
     },
     "execution_count": 305,
     "metadata": {},
     "output_type": "execute_result"
    }
   ],
   "source": [
    "df5[df5.duplicated()] #okay so no duplicates thats good"
   ]
  },
  {
   "cell_type": "code",
   "execution_count": 306,
   "metadata": {},
   "outputs": [
    {
     "data": {
      "text/plain": [
       "tconst                 0\n",
       "movie_title            0\n",
       "runtime_minutes      494\n",
       "genres                73\n",
       "directors             90\n",
       "writers              473\n",
       "id                     0\n",
       "release_date           0\n",
       "production_budget      0\n",
       "release_day            0\n",
       "release_month          0\n",
       "release_year           0\n",
       "revenue                0\n",
       "profit                 0\n",
       "roi                    0\n",
       "dtype: int64"
      ]
     },
     "execution_count": 306,
     "metadata": {},
     "output_type": "execute_result"
    }
   ],
   "source": [
    "df5.isna().sum() #so i need to keep all genres, diretors and runtime so i will deal with those firse\n",
    "                 #if there are still a lot of blank writers then i may have to delete the column"
   ]
  },
  {
   "cell_type": "code",
   "execution_count": 307,
   "metadata": {},
   "outputs": [],
   "source": [
    "df5 = df5.dropna(subset =['runtime_minutes'])"
   ]
  },
  {
   "cell_type": "code",
   "execution_count": 308,
   "metadata": {},
   "outputs": [
    {
     "data": {
      "text/plain": [
       "tconst                 0\n",
       "movie_title            0\n",
       "runtime_minutes        0\n",
       "genres                19\n",
       "directors             39\n",
       "writers              334\n",
       "id                     0\n",
       "release_date           0\n",
       "production_budget      0\n",
       "release_day            0\n",
       "release_month          0\n",
       "release_year           0\n",
       "revenue                0\n",
       "profit                 0\n",
       "roi                    0\n",
       "dtype: int64"
      ]
     },
     "execution_count": 308,
     "metadata": {},
     "output_type": "execute_result"
    }
   ],
   "source": [
    "df5.isna().sum() #okay as a result we decide to drop all rows with empty data"
   ]
  },
  {
   "cell_type": "code",
   "execution_count": 309,
   "metadata": {},
   "outputs": [
    {
     "data": {
      "text/plain": [
       "tconst               0\n",
       "movie_title          0\n",
       "runtime_minutes      0\n",
       "genres               0\n",
       "directors            0\n",
       "writers              0\n",
       "id                   0\n",
       "release_date         0\n",
       "production_budget    0\n",
       "release_day          0\n",
       "release_month        0\n",
       "release_year         0\n",
       "revenue              0\n",
       "profit               0\n",
       "roi                  0\n",
       "dtype: int64"
      ]
     },
     "execution_count": 309,
     "metadata": {},
     "output_type": "execute_result"
    }
   ],
   "source": [
    "df5 = df5.dropna(subset =['runtime_minutes', 'genres', 'directors', 'writers'])\n",
    "df5.isna().sum() #perfect"
   ]
  },
  {
   "cell_type": "code",
   "execution_count": 310,
   "metadata": {
    "scrolled": true
   },
   "outputs": [
    {
     "data": {
      "text/html": [
       "<div>\n",
       "<style scoped>\n",
       "    .dataframe tbody tr th:only-of-type {\n",
       "        vertical-align: middle;\n",
       "    }\n",
       "\n",
       "    .dataframe tbody tr th {\n",
       "        vertical-align: top;\n",
       "    }\n",
       "\n",
       "    .dataframe thead th {\n",
       "        text-align: right;\n",
       "    }\n",
       "</style>\n",
       "<table border=\"1\" class=\"dataframe\">\n",
       "  <thead>\n",
       "    <tr style=\"text-align: right;\">\n",
       "      <th></th>\n",
       "      <th>tconst</th>\n",
       "      <th>movie_title</th>\n",
       "      <th>runtime_minutes</th>\n",
       "      <th>genres</th>\n",
       "      <th>directors</th>\n",
       "      <th>writers</th>\n",
       "      <th>id</th>\n",
       "      <th>release_date</th>\n",
       "      <th>production_budget</th>\n",
       "      <th>release_day</th>\n",
       "      <th>release_month</th>\n",
       "      <th>release_year</th>\n",
       "      <th>revenue</th>\n",
       "      <th>profit</th>\n",
       "      <th>roi</th>\n",
       "    </tr>\n",
       "  </thead>\n",
       "  <tbody>\n",
       "    <tr>\n",
       "      <td>0</td>\n",
       "      <td>tt0249516</td>\n",
       "      <td>foodfight!</td>\n",
       "      <td>91.0</td>\n",
       "      <td>action,animation,comedy</td>\n",
       "      <td>nm0440415</td>\n",
       "      <td>nm0440415,nm0923312,nm0295165,nm0841854,nm0220297</td>\n",
       "      <td>26</td>\n",
       "      <td>2012-12-31 00:00:00.000000</td>\n",
       "      <td>45000000</td>\n",
       "      <td>Monday</td>\n",
       "      <td>December</td>\n",
       "      <td>2012</td>\n",
       "      <td>73706</td>\n",
       "      <td>-44926294</td>\n",
       "      <td>-0.998362</td>\n",
       "    </tr>\n",
       "    <tr>\n",
       "      <td>3</td>\n",
       "      <td>tt0337692</td>\n",
       "      <td>on the road</td>\n",
       "      <td>124.0</td>\n",
       "      <td>adventure,drama,romance</td>\n",
       "      <td>nm0758574</td>\n",
       "      <td>nm0449616,nm1433580</td>\n",
       "      <td>17</td>\n",
       "      <td>2013-03-22 00:00:00.000000</td>\n",
       "      <td>25000000</td>\n",
       "      <td>Friday</td>\n",
       "      <td>March</td>\n",
       "      <td>2013</td>\n",
       "      <td>10034130</td>\n",
       "      <td>-14965870</td>\n",
       "      <td>-0.598635</td>\n",
       "    </tr>\n",
       "    <tr>\n",
       "      <td>4</td>\n",
       "      <td>tt0359950</td>\n",
       "      <td>the secret life of walter mitty</td>\n",
       "      <td>114.0</td>\n",
       "      <td>adventure,comedy,drama</td>\n",
       "      <td>nm0001774</td>\n",
       "      <td>nm0175726,nm0862122</td>\n",
       "      <td>37</td>\n",
       "      <td>2013-12-25 00:00:00.000000</td>\n",
       "      <td>91000000</td>\n",
       "      <td>Wednesday</td>\n",
       "      <td>December</td>\n",
       "      <td>2013</td>\n",
       "      <td>246098021</td>\n",
       "      <td>155098021</td>\n",
       "      <td>1.704374</td>\n",
       "    </tr>\n",
       "    <tr>\n",
       "      <td>5</td>\n",
       "      <td>tt0365907</td>\n",
       "      <td>a walk among the tombstones</td>\n",
       "      <td>114.0</td>\n",
       "      <td>action,crime,drama</td>\n",
       "      <td>nm0291082</td>\n",
       "      <td>nm0088747,nm0291082</td>\n",
       "      <td>67</td>\n",
       "      <td>2014-09-19 00:00:00.000000</td>\n",
       "      <td>28000000</td>\n",
       "      <td>Friday</td>\n",
       "      <td>September</td>\n",
       "      <td>2014</td>\n",
       "      <td>88126272</td>\n",
       "      <td>60126272</td>\n",
       "      <td>2.147367</td>\n",
       "    </tr>\n",
       "    <tr>\n",
       "      <td>6</td>\n",
       "      <td>tt0369610</td>\n",
       "      <td>jurassic world</td>\n",
       "      <td>124.0</td>\n",
       "      <td>action,adventure,sci-fi</td>\n",
       "      <td>nm1119880</td>\n",
       "      <td>nm0415425,nm0798646,nm1119880,nm2081046,nm0000341</td>\n",
       "      <td>34</td>\n",
       "      <td>2015-06-12 00:00:00.000000</td>\n",
       "      <td>215000000</td>\n",
       "      <td>Friday</td>\n",
       "      <td>June</td>\n",
       "      <td>2015</td>\n",
       "      <td>2301125489</td>\n",
       "      <td>2086125489</td>\n",
       "      <td>9.702909</td>\n",
       "    </tr>\n",
       "  </tbody>\n",
       "</table>\n",
       "</div>"
      ],
      "text/plain": [
       "      tconst                      movie_title  runtime_minutes  \\\n",
       "0  tt0249516                       foodfight!             91.0   \n",
       "3  tt0337692                      on the road            124.0   \n",
       "4  tt0359950  the secret life of walter mitty            114.0   \n",
       "5  tt0365907      a walk among the tombstones            114.0   \n",
       "6  tt0369610                   jurassic world            124.0   \n",
       "\n",
       "                    genres  directors  \\\n",
       "0  action,animation,comedy  nm0440415   \n",
       "3  adventure,drama,romance  nm0758574   \n",
       "4   adventure,comedy,drama  nm0001774   \n",
       "5       action,crime,drama  nm0291082   \n",
       "6  action,adventure,sci-fi  nm1119880   \n",
       "\n",
       "                                             writers  id  \\\n",
       "0  nm0440415,nm0923312,nm0295165,nm0841854,nm0220297  26   \n",
       "3                                nm0449616,nm1433580  17   \n",
       "4                                nm0175726,nm0862122  37   \n",
       "5                                nm0088747,nm0291082  67   \n",
       "6  nm0415425,nm0798646,nm1119880,nm2081046,nm0000341  34   \n",
       "\n",
       "                 release_date  production_budget release_day release_month  \\\n",
       "0  2012-12-31 00:00:00.000000           45000000      Monday      December   \n",
       "3  2013-03-22 00:00:00.000000           25000000      Friday         March   \n",
       "4  2013-12-25 00:00:00.000000           91000000   Wednesday      December   \n",
       "5  2014-09-19 00:00:00.000000           28000000      Friday     September   \n",
       "6  2015-06-12 00:00:00.000000          215000000      Friday          June   \n",
       "\n",
       "   release_year     revenue      profit       roi  \n",
       "0          2012       73706   -44926294 -0.998362  \n",
       "3          2013    10034130   -14965870 -0.598635  \n",
       "4          2013   246098021   155098021  1.704374  \n",
       "5          2014    88126272    60126272  2.147367  \n",
       "6          2015  2301125489  2086125489  9.702909  "
      ]
     },
     "execution_count": 310,
     "metadata": {},
     "output_type": "execute_result"
    }
   ],
   "source": [
    "df5.head()"
   ]
  },
  {
   "cell_type": "markdown",
   "metadata": {},
   "source": [
    "okay so now we have our fully cleaned data table we can now start our data exploration\n",
    "\n",
    "plots\n",
    "\n",
    "1. budget to ROI\n",
    "2. runtime to ROI\n",
    "3. directors to ROI\n",
    "4. Writers to ROI\n",
    "5. release day to ROI\n",
    "6. release month to ROI\n",
    "7. genres to ROI \n",
    "8. unemployment/gdp on ROI\n",
    "\n",
    "easy\n",
    "1. budget to ROI\n",
    "2. runtime to ROI\n",
    "5. release day to ROI\n",
    "6. release month to ROI\n",
    "\n",
    "hard\n",
    "3. directors to ROI\n",
    "4. Writers to ROI\n",
    "7. genres to ROI \n",
    "\n",
    "different ones\n",
    "8. unemployment/gdp on ROI -> maybe GDP gives \n",
    "\n",
    "lets start with one of the easy ones before attempting the hard ones"
   ]
  },
  {
   "cell_type": "markdown",
   "metadata": {},
   "source": [
    "1. Burget to ROI"
   ]
  },
  {
   "cell_type": "code",
   "execution_count": 402,
   "metadata": {},
   "outputs": [
    {
     "data": {
      "text/html": [
       "<div>\n",
       "<style scoped>\n",
       "    .dataframe tbody tr th:only-of-type {\n",
       "        vertical-align: middle;\n",
       "    }\n",
       "\n",
       "    .dataframe tbody tr th {\n",
       "        vertical-align: top;\n",
       "    }\n",
       "\n",
       "    .dataframe thead th {\n",
       "        text-align: right;\n",
       "    }\n",
       "</style>\n",
       "<table border=\"1\" class=\"dataframe\">\n",
       "  <thead>\n",
       "    <tr style=\"text-align: right;\">\n",
       "      <th></th>\n",
       "      <th>runtime_minutes</th>\n",
       "      <th>id</th>\n",
       "      <th>production_budget</th>\n",
       "      <th>release_year</th>\n",
       "      <th>revenue</th>\n",
       "      <th>profit</th>\n",
       "      <th>roi</th>\n",
       "    </tr>\n",
       "  </thead>\n",
       "  <tbody>\n",
       "    <tr>\n",
       "      <td>count</td>\n",
       "      <td>3046.000000</td>\n",
       "      <td>3046.000000</td>\n",
       "      <td>3.046000e+03</td>\n",
       "      <td>3046.000000</td>\n",
       "      <td>3.046000e+03</td>\n",
       "      <td>3.046000e+03</td>\n",
       "      <td>3046.000000</td>\n",
       "    </tr>\n",
       "    <tr>\n",
       "      <td>mean</td>\n",
       "      <td>100.249508</td>\n",
       "      <td>51.060735</td>\n",
       "      <td>3.404807e+07</td>\n",
       "      <td>2009.941563</td>\n",
       "      <td>1.418934e+08</td>\n",
       "      <td>1.078453e+08</td>\n",
       "      <td>4.945742</td>\n",
       "    </tr>\n",
       "    <tr>\n",
       "      <td>std</td>\n",
       "      <td>24.515954</td>\n",
       "      <td>28.561815</td>\n",
       "      <td>4.712946e+07</td>\n",
       "      <td>9.581208</td>\n",
       "      <td>2.700954e+08</td>\n",
       "      <td>2.359704e+08</td>\n",
       "      <td>20.517901</td>\n",
       "    </tr>\n",
       "    <tr>\n",
       "      <td>min</td>\n",
       "      <td>1.000000</td>\n",
       "      <td>1.000000</td>\n",
       "      <td>1.400000e+03</td>\n",
       "      <td>1915.000000</td>\n",
       "      <td>0.000000e+00</td>\n",
       "      <td>-1.574753e+08</td>\n",
       "      <td>-1.000000</td>\n",
       "    </tr>\n",
       "    <tr>\n",
       "      <td>25%</td>\n",
       "      <td>89.000000</td>\n",
       "      <td>27.250000</td>\n",
       "      <td>5.000000e+06</td>\n",
       "      <td>2010.000000</td>\n",
       "      <td>3.372858e+06</td>\n",
       "      <td>-1.000000e+06</td>\n",
       "      <td>-0.538875</td>\n",
       "    </tr>\n",
       "    <tr>\n",
       "      <td>50%</td>\n",
       "      <td>100.000000</td>\n",
       "      <td>51.000000</td>\n",
       "      <td>1.665000e+07</td>\n",
       "      <td>2013.000000</td>\n",
       "      <td>4.495364e+07</td>\n",
       "      <td>2.467459e+07</td>\n",
       "      <td>1.299430</td>\n",
       "    </tr>\n",
       "    <tr>\n",
       "      <td>75%</td>\n",
       "      <td>113.000000</td>\n",
       "      <td>76.000000</td>\n",
       "      <td>4.000000e+07</td>\n",
       "      <td>2015.000000</td>\n",
       "      <td>1.483302e+08</td>\n",
       "      <td>1.080977e+08</td>\n",
       "      <td>4.444638</td>\n",
       "    </tr>\n",
       "    <tr>\n",
       "      <td>max</td>\n",
       "      <td>360.000000</td>\n",
       "      <td>100.000000</td>\n",
       "      <td>4.250000e+08</td>\n",
       "      <td>2019.000000</td>\n",
       "      <td>3.536853e+09</td>\n",
       "      <td>3.111853e+09</td>\n",
       "      <td>643.208840</td>\n",
       "    </tr>\n",
       "  </tbody>\n",
       "</table>\n",
       "</div>"
      ],
      "text/plain": [
       "       runtime_minutes           id  production_budget  release_year  \\\n",
       "count      3046.000000  3046.000000       3.046000e+03   3046.000000   \n",
       "mean        100.249508    51.060735       3.404807e+07   2009.941563   \n",
       "std          24.515954    28.561815       4.712946e+07      9.581208   \n",
       "min           1.000000     1.000000       1.400000e+03   1915.000000   \n",
       "25%          89.000000    27.250000       5.000000e+06   2010.000000   \n",
       "50%         100.000000    51.000000       1.665000e+07   2013.000000   \n",
       "75%         113.000000    76.000000       4.000000e+07   2015.000000   \n",
       "max         360.000000   100.000000       4.250000e+08   2019.000000   \n",
       "\n",
       "            revenue        profit          roi  \n",
       "count  3.046000e+03  3.046000e+03  3046.000000  \n",
       "mean   1.418934e+08  1.078453e+08     4.945742  \n",
       "std    2.700954e+08  2.359704e+08    20.517901  \n",
       "min    0.000000e+00 -1.574753e+08    -1.000000  \n",
       "25%    3.372858e+06 -1.000000e+06    -0.538875  \n",
       "50%    4.495364e+07  2.467459e+07     1.299430  \n",
       "75%    1.483302e+08  1.080977e+08     4.444638  \n",
       "max    3.536853e+09  3.111853e+09   643.208840  "
      ]
     },
     "execution_count": 402,
     "metadata": {},
     "output_type": "execute_result"
    }
   ],
   "source": [
    "df5.describe()"
   ]
  },
  {
   "cell_type": "code",
   "execution_count": 311,
   "metadata": {},
   "outputs": [
    {
     "data": {
      "image/png": "[encoded data removed]",
      "text/plain": [
       "<Figure size 432x288 with 1 Axes>"
      ]
     },
     "metadata": {},
     "output_type": "display_data"
    }
   ],
   "source": [
    "with plt.style.context('fivethirtyeight'):\n",
    "    df5['production_budget'].plot.hist()"
   ]
  },
  {
   "cell_type": "code",
   "execution_count": 410,
   "metadata": {
    "scrolled": false
   },
   "outputs": [
    {
     "data": {
      "text/plain": [
       "(-1.5, 60)"
      ]
     },
     "execution_count": 410,
     "metadata": {},
     "output_type": "execute_result"
    },
    {
     "data": {
      "image/png": "[encoded data removed]",
      "text/plain": [
       "<Figure size 432x288 with 1 Axes>"
      ]
     },
     "metadata": {
      "needs_background": "light"
     },
     "output_type": "display_data"
    }
   ],
   "source": [
    "ax = sns.scatterplot(x=\"production_budget\", y=\"roi\", data=df5, cmap=\"coolwarm\")\n",
    "ax.set_ylim(-1.5, 60)"
   ]
  },
  {
   "cell_type": "code",
   "execution_count": 456,
   "metadata": {},
   "outputs": [
    {
     "data": {
      "text/plain": [
       "['seaborn-dark',\n",
       " 'seaborn-darkgrid',\n",
       " 'seaborn-ticks',\n",
       " 'fivethirtyeight',\n",
       " 'seaborn-whitegrid',\n",
       " 'classic',\n",
       " '_classic_test',\n",
       " 'fast',\n",
       " 'seaborn-talk',\n",
       " 'seaborn-dark-palette',\n",
       " 'seaborn-bright',\n",
       " 'seaborn-pastel',\n",
       " 'grayscale',\n",
       " 'seaborn-notebook',\n",
       " 'ggplot',\n",
       " 'seaborn-colorblind',\n",
       " 'seaborn-muted',\n",
       " 'seaborn',\n",
       " 'Solarize_Light2',\n",
       " 'seaborn-paper',\n",
       " 'bmh',\n",
       " 'tableau-colorblind10',\n",
       " 'seaborn-white',\n",
       " 'dark_background',\n",
       " 'seaborn-poster',\n",
       " 'seaborn-deep']"
      ]
     },
     "execution_count": 456,
     "metadata": {},
     "output_type": "execute_result"
    }
   ],
   "source": [
    "plt.style.available"
   ]
  },
  {
   "cell_type": "code",
   "execution_count": 475,
   "metadata": {},
   "outputs": [
    {
     "data": {
      "text/plain": [
       "Text(0, 0.5, 'Return On Investment (In Billions Of U.S. Dollars) ')"
      ]
     },
     "execution_count": 475,
     "metadata": {},
     "output_type": "execute_result"
    },
    {
     "data": {
      "image/png": "[encoded data removed]",
      "text/plain": [
       "<Figure size 1600x800 with 1 Axes>"
      ]
     },
     "metadata": {},
     "output_type": "display_data"
    }
   ],
   "source": [
    "plt.style.use('bmh')\n",
    "fig, ax = plt.subplots()\n",
    "fig.set_size_inches(20,10)\n",
    "ax.scatter(x=df5[\"production_budget\"], y=df5[\"roi\"], c=np.sign(df5[\"roi\"]), cmap=\"coolwarm\")\n",
    "ax.set_ylim(-1.5, 60)\n",
    "ax.set_xlim(-1000000, 300000000)\n",
    "plt.xlabel('Budget (In Millions Of U.S. Dollars)', fontsize = 15 , weight ='bold')\n",
    "plt.ylabel('Return On Investment (In Billions Of U.S. Dollars) ', fontsize = 15, weight ='bold')"
   ]
  },
  {
   "cell_type": "code",
   "execution_count": 313,
   "metadata": {
    "scrolled": true
   },
   "outputs": [
    {
     "data": {
      "text/html": [
       "<div>\n",
       "<style scoped>\n",
       "    .dataframe tbody tr th:only-of-type {\n",
       "        vertical-align: middle;\n",
       "    }\n",
       "\n",
       "    .dataframe tbody tr th {\n",
       "        vertical-align: top;\n",
       "    }\n",
       "\n",
       "    .dataframe thead th {\n",
       "        text-align: right;\n",
       "    }\n",
       "</style>\n",
       "<table border=\"1\" class=\"dataframe\">\n",
       "  <thead>\n",
       "    <tr style=\"text-align: right;\">\n",
       "      <th></th>\n",
       "      <th>tconst</th>\n",
       "      <th>movie_title</th>\n",
       "      <th>runtime_minutes</th>\n",
       "      <th>genres</th>\n",
       "      <th>directors</th>\n",
       "      <th>writers</th>\n",
       "      <th>id</th>\n",
       "      <th>release_date</th>\n",
       "      <th>production_budget</th>\n",
       "      <th>release_day</th>\n",
       "      <th>release_month</th>\n",
       "      <th>release_year</th>\n",
       "      <th>revenue</th>\n",
       "      <th>profit</th>\n",
       "      <th>roi</th>\n",
       "    </tr>\n",
       "  </thead>\n",
       "  <tbody>\n",
       "    <tr>\n",
       "      <td>679</td>\n",
       "      <td>tt1502407</td>\n",
       "      <td>halloween</td>\n",
       "      <td>106.0</td>\n",
       "      <td>horror,thriller</td>\n",
       "      <td>nm0337773</td>\n",
       "      <td>nm0000118,nm0384185,nm2171769,nm1144419,nm0337773</td>\n",
       "      <td>37</td>\n",
       "      <td>1978-10-17 00:00:00.000000</td>\n",
       "      <td>325000</td>\n",
       "      <td>Tuesday</td>\n",
       "      <td>October</td>\n",
       "      <td>1978</td>\n",
       "      <td>117000000</td>\n",
       "      <td>116675000</td>\n",
       "      <td>359.000000</td>\n",
       "    </tr>\n",
       "    <tr>\n",
       "      <td>741</td>\n",
       "      <td>tt1560985</td>\n",
       "      <td>the devil inside</td>\n",
       "      <td>83.0</td>\n",
       "      <td>horror</td>\n",
       "      <td>nm0068587</td>\n",
       "      <td>nm0068587,nm1834343</td>\n",
       "      <td>12</td>\n",
       "      <td>2012-01-06 00:00:00.000000</td>\n",
       "      <td>1000000</td>\n",
       "      <td>Friday</td>\n",
       "      <td>January</td>\n",
       "      <td>2012</td>\n",
       "      <td>155022435</td>\n",
       "      <td>154022435</td>\n",
       "      <td>154.022435</td>\n",
       "    </tr>\n",
       "    <tr>\n",
       "      <td>782</td>\n",
       "      <td>tt1591095</td>\n",
       "      <td>insidious</td>\n",
       "      <td>103.0</td>\n",
       "      <td>horror,mystery,thriller</td>\n",
       "      <td>nm1490123</td>\n",
       "      <td>nm1191481</td>\n",
       "      <td>63</td>\n",
       "      <td>2011-04-01 00:00:00.000000</td>\n",
       "      <td>1500000</td>\n",
       "      <td>Friday</td>\n",
       "      <td>April</td>\n",
       "      <td>2011</td>\n",
       "      <td>153880036</td>\n",
       "      <td>152380036</td>\n",
       "      <td>101.586691</td>\n",
       "    </tr>\n",
       "    <tr>\n",
       "      <td>903</td>\n",
       "      <td>tt1661199</td>\n",
       "      <td>cinderella</td>\n",
       "      <td>105.0</td>\n",
       "      <td>drama,family,fantasy</td>\n",
       "      <td>nm0000110</td>\n",
       "      <td>nm0919363,nm0674518</td>\n",
       "      <td>76</td>\n",
       "      <td>1950-02-15 00:00:00.000000</td>\n",
       "      <td>2900000</td>\n",
       "      <td>Wednesday</td>\n",
       "      <td>February</td>\n",
       "      <td>1950</td>\n",
       "      <td>348591415</td>\n",
       "      <td>345691415</td>\n",
       "      <td>119.203936</td>\n",
       "    </tr>\n",
       "    <tr>\n",
       "      <td>1104</td>\n",
       "      <td>tt1799516</td>\n",
       "      <td>benji</td>\n",
       "      <td>87.0</td>\n",
       "      <td>crime,drama,family</td>\n",
       "      <td>nm0131969</td>\n",
       "      <td>nm0131969,nm0131995</td>\n",
       "      <td>30</td>\n",
       "      <td>1974-11-15 00:00:00.000000</td>\n",
       "      <td>500000</td>\n",
       "      <td>Friday</td>\n",
       "      <td>November</td>\n",
       "      <td>1974</td>\n",
       "      <td>63119120</td>\n",
       "      <td>62619120</td>\n",
       "      <td>125.238240</td>\n",
       "    </tr>\n",
       "    <tr>\n",
       "      <td>1673</td>\n",
       "      <td>tt2309260</td>\n",
       "      <td>the gallows</td>\n",
       "      <td>81.0</td>\n",
       "      <td>horror,mystery,thriller</td>\n",
       "      <td>nm4000389,nm3951039</td>\n",
       "      <td>nm3951039,nm4000389</td>\n",
       "      <td>80</td>\n",
       "      <td>2015-07-10 00:00:00.000000</td>\n",
       "      <td>100000</td>\n",
       "      <td>Friday</td>\n",
       "      <td>July</td>\n",
       "      <td>2015</td>\n",
       "      <td>64420884</td>\n",
       "      <td>64320884</td>\n",
       "      <td>643.208840</td>\n",
       "    </tr>\n",
       "    <tr>\n",
       "      <td>1885</td>\n",
       "      <td>tt2519480</td>\n",
       "      <td>benji</td>\n",
       "      <td>79.0</td>\n",
       "      <td>documentary,sport</td>\n",
       "      <td>nm1962885,nm1964238</td>\n",
       "      <td>nm1243211</td>\n",
       "      <td>30</td>\n",
       "      <td>1974-11-15 00:00:00.000000</td>\n",
       "      <td>500000</td>\n",
       "      <td>Friday</td>\n",
       "      <td>November</td>\n",
       "      <td>1974</td>\n",
       "      <td>63119120</td>\n",
       "      <td>62619120</td>\n",
       "      <td>125.238240</td>\n",
       "    </tr>\n",
       "    <tr>\n",
       "      <td>1972</td>\n",
       "      <td>tt2668120</td>\n",
       "      <td>bambi</td>\n",
       "      <td>58.0</td>\n",
       "      <td>biography,documentary</td>\n",
       "      <td>nm0509852</td>\n",
       "      <td>nm0509852</td>\n",
       "      <td>47</td>\n",
       "      <td>1942-08-13 00:00:00.000000</td>\n",
       "      <td>858000</td>\n",
       "      <td>Thursday</td>\n",
       "      <td>August</td>\n",
       "      <td>1942</td>\n",
       "      <td>370797000</td>\n",
       "      <td>369939000</td>\n",
       "      <td>431.164336</td>\n",
       "    </tr>\n",
       "    <tr>\n",
       "      <td>2298</td>\n",
       "      <td>tt3393372</td>\n",
       "      <td>night of the living dead</td>\n",
       "      <td>79.0</td>\n",
       "      <td>horror</td>\n",
       "      <td>nm5209991</td>\n",
       "      <td>nm5209991</td>\n",
       "      <td>77</td>\n",
       "      <td>1968-10-01 00:00:00.000000</td>\n",
       "      <td>114000</td>\n",
       "      <td>Tuesday</td>\n",
       "      <td>October</td>\n",
       "      <td>1968</td>\n",
       "      <td>42174128</td>\n",
       "      <td>42060128</td>\n",
       "      <td>368.948491</td>\n",
       "    </tr>\n",
       "    <tr>\n",
       "      <td>2639</td>\n",
       "      <td>tt4196450</td>\n",
       "      <td>the birth of a nation</td>\n",
       "      <td>120.0</td>\n",
       "      <td>biography,drama,history</td>\n",
       "      <td>nm1676649</td>\n",
       "      <td>nm1676649,nm7473774</td>\n",
       "      <td>78</td>\n",
       "      <td>1915-02-08 00:00:00.000000</td>\n",
       "      <td>110000</td>\n",
       "      <td>Monday</td>\n",
       "      <td>February</td>\n",
       "      <td>1915</td>\n",
       "      <td>21000000</td>\n",
       "      <td>20890000</td>\n",
       "      <td>189.909091</td>\n",
       "    </tr>\n",
       "    <tr>\n",
       "      <td>2940</td>\n",
       "      <td>tt5089556</td>\n",
       "      <td>cinderella</td>\n",
       "      <td>113.0</td>\n",
       "      <td>fantasy</td>\n",
       "      <td>nm7633075</td>\n",
       "      <td>nm7633074,nm7633071</td>\n",
       "      <td>76</td>\n",
       "      <td>1950-02-15 00:00:00.000000</td>\n",
       "      <td>2900000</td>\n",
       "      <td>Wednesday</td>\n",
       "      <td>February</td>\n",
       "      <td>1950</td>\n",
       "      <td>348591415</td>\n",
       "      <td>345691415</td>\n",
       "      <td>119.203936</td>\n",
       "    </tr>\n",
       "  </tbody>\n",
       "</table>\n",
       "</div>"
      ],
      "text/plain": [
       "         tconst               movie_title  runtime_minutes  \\\n",
       "679   tt1502407                 halloween            106.0   \n",
       "741   tt1560985          the devil inside             83.0   \n",
       "782   tt1591095                 insidious            103.0   \n",
       "903   tt1661199                cinderella            105.0   \n",
       "1104  tt1799516                     benji             87.0   \n",
       "1673  tt2309260               the gallows             81.0   \n",
       "1885  tt2519480                     benji             79.0   \n",
       "1972  tt2668120                     bambi             58.0   \n",
       "2298  tt3393372  night of the living dead             79.0   \n",
       "2639  tt4196450     the birth of a nation            120.0   \n",
       "2940  tt5089556                cinderella            113.0   \n",
       "\n",
       "                       genres            directors  \\\n",
       "679           horror,thriller            nm0337773   \n",
       "741                    horror            nm0068587   \n",
       "782   horror,mystery,thriller            nm1490123   \n",
       "903      drama,family,fantasy            nm0000110   \n",
       "1104       crime,drama,family            nm0131969   \n",
       "1673  horror,mystery,thriller  nm4000389,nm3951039   \n",
       "1885        documentary,sport  nm1962885,nm1964238   \n",
       "1972    biography,documentary            nm0509852   \n",
       "2298                   horror            nm5209991   \n",
       "2639  biography,drama,history            nm1676649   \n",
       "2940                  fantasy            nm7633075   \n",
       "\n",
       "                                                writers  id  \\\n",
       "679   nm0000118,nm0384185,nm2171769,nm1144419,nm0337773  37   \n",
       "741                                 nm0068587,nm1834343  12   \n",
       "782                                           nm1191481  63   \n",
       "903                                 nm0919363,nm0674518  76   \n",
       "1104                                nm0131969,nm0131995  30   \n",
       "1673                                nm3951039,nm4000389  80   \n",
       "1885                                          nm1243211  30   \n",
       "1972                                          nm0509852  47   \n",
       "2298                                          nm5209991  77   \n",
       "2639                                nm1676649,nm7473774  78   \n",
       "2940                                nm7633074,nm7633071  76   \n",
       "\n",
       "                    release_date  production_budget release_day release_month  \\\n",
       "679   1978-10-17 00:00:00.000000             325000     Tuesday       October   \n",
       "741   2012-01-06 00:00:00.000000            1000000      Friday       January   \n",
       "782   2011-04-01 00:00:00.000000            1500000      Friday         April   \n",
       "903   1950-02-15 00:00:00.000000            2900000   Wednesday      February   \n",
       "1104  1974-11-15 00:00:00.000000             500000      Friday      November   \n",
       "1673  2015-07-10 00:00:00.000000             100000      Friday          July   \n",
       "1885  1974-11-15 00:00:00.000000             500000      Friday      November   \n",
       "1972  1942-08-13 00:00:00.000000             858000    Thursday        August   \n",
       "2298  1968-10-01 00:00:00.000000             114000     Tuesday       October   \n",
       "2639  1915-02-08 00:00:00.000000             110000      Monday      February   \n",
       "2940  1950-02-15 00:00:00.000000            2900000   Wednesday      February   \n",
       "\n",
       "      release_year    revenue     profit         roi  \n",
       "679           1978  117000000  116675000  359.000000  \n",
       "741           2012  155022435  154022435  154.022435  \n",
       "782           2011  153880036  152380036  101.586691  \n",
       "903           1950  348591415  345691415  119.203936  \n",
       "1104          1974   63119120   62619120  125.238240  \n",
       "1673          2015   64420884   64320884  643.208840  \n",
       "1885          1974   63119120   62619120  125.238240  \n",
       "1972          1942  370797000  369939000  431.164336  \n",
       "2298          1968   42174128   42060128  368.948491  \n",
       "2639          1915   21000000   20890000  189.909091  \n",
       "2940          1950  348591415  345691415  119.203936  "
      ]
     },
     "execution_count": 313,
     "metadata": {},
     "output_type": "execute_result"
    }
   ],
   "source": [
    "(df5.loc[df5['roi']>100]) # most movies which generate insane ROI's are old so lets filter for new movies"
   ]
  },
  {
   "cell_type": "code",
   "execution_count": 314,
   "metadata": {},
   "outputs": [],
   "source": [
    "df5_new_movies = df5.loc[df5['release_year']>1999]"
   ]
  },
  {
   "cell_type": "code",
   "execution_count": 315,
   "metadata": {
    "scrolled": true
   },
   "outputs": [
    {
     "data": {
      "image/png": "[encoded data removed]",
      "text/plain": [
       "<Figure size 432x288 with 1 Axes>"
      ]
     },
     "metadata": {
      "needs_background": "light"
     },
     "output_type": "display_data"
    }
   ],
   "source": [
    "ax = sns.scatterplot(x=\"production_budget\", y=\"roi\", data=df5_new_movies) #so dont spend too much on your movie\n",
    "ax2 = sns.distplot(df5['production_budget'], hist= False, color = 'r')"
   ]
  },
  {
   "cell_type": "code",
   "execution_count": 316,
   "metadata": {
    "scrolled": true
   },
   "outputs": [
    {
     "data": {
      "image/png": "[encoded data removed]",
      "text/plain": [
       "<Figure size 432x288 with 1 Axes>"
      ]
     },
     "metadata": {
      "needs_background": "light"
     },
     "output_type": "display_data"
    }
   ],
   "source": [
    "ax2 = sns.distplot(df5['production_budget'], hist= False, color = 'r' )"
   ]
  },
  {
   "cell_type": "code",
   "execution_count": 317,
   "metadata": {},
   "outputs": [
    {
     "data": {
      "image/png": "[encoded data removed]",
      "text/plain": [
       "<Figure size 432x288 with 2 Axes>"
      ]
     },
     "metadata": {
      "needs_background": "light"
     },
     "output_type": "display_data"
    }
   ],
   "source": [
    "fig,ax = plt.subplots()\n",
    "ax.scatter(x=\"production_budget\", y=\"roi\", data = df5)\n",
    "ax2=ax.twinx()\n",
    "ax2 = df5['production_budget'].plot.kde()"
   ]
  },
  {
   "cell_type": "markdown",
   "metadata": {},
   "source": [
    "# create figure and axis objects with subplots()\n",
    "fig,ax = plt.subplots()\n",
    "# make a plot\n",
    "ax.plot(gapminder_us.year, gapminder_us.lifeExp, color=\"red\", marker=\"o\")\n",
    "# set x-axis label\n",
    "ax.set_xlabel(\"year\",fontsize=14)a\n",
    "# set y-axis label\n",
    "ax.set_ylabel(\"lifeExp\",color=\"red\",fontsize=14)\n",
    "Next we use twinx() function to create the second axis object “ax2”. Now we use the second axis object “ax2” to make plot of the second y-axis variable and update their labels.\n",
    "\n",
    "# twin object for two different y-axis on the sample plot\n",
    "ax2=ax.twinx()\n",
    "# make a plot with different y-axis using second axis object\n",
    "ax2.plot(gapminder_us.year, gapminder_us[\"gdpPercap\"],color=\"blue\",marker=\"o\")\n",
    "ax2.set_ylabel(\"gdpPercap\",color=\"blue\",fontsize=14)\n",
    "plt.show()\n",
    "# save the plot as a file\n",
    "fig.savefig('two_different_y_axis_for_single_python_plot_with_twinx.jpg',\n",
    "            format='jpeg',\n",
    "            dpi=100,\n",
    "            bbox_inches='tight')"
   ]
  },
  {
   "cell_type": "markdown",
   "metadata": {},
   "source": [
    "Runtime"
   ]
  },
  {
   "cell_type": "code",
   "execution_count": 381,
   "metadata": {},
   "outputs": [
    {
     "data": {
      "text/plain": [
       "<matplotlib.axes._subplots.AxesSubplot at 0x1a28361d68>"
      ]
     },
     "execution_count": 381,
     "metadata": {},
     "output_type": "execute_result"
    },
    {
     "data": {
      "image/png": "[encoded data removed]",
      "text/plain": [
       "<Figure size 432x288 with 1 Axes>"
      ]
     },
     "metadata": {
      "needs_background": "light"
     },
     "output_type": "display_data"
    }
   ],
   "source": [
    "df5['runtime_minutes'].plot.hist(bins = 20)"
   ]
  },
  {
   "cell_type": "code",
   "execution_count": 390,
   "metadata": {},
   "outputs": [
    {
     "data": {
      "text/plain": [
       "(0, 250)"
      ]
     },
     "execution_count": 390,
     "metadata": {},
     "output_type": "execute_result"
    },
    {
     "data": {
      "image/png": "[encoded data removed]",
      "text/plain": [
       "<Figure size 432x288 with 1 Axes>"
      ]
     },
     "metadata": {
      "needs_background": "light"
     },
     "output_type": "display_data"
    }
   ],
   "source": [
    "plt.hist((df5['runtime_minutes']), bins = 20z, edgecolor = 'black')\n",
    "plt.xlim(0, 250)"
   ]
  },
  {
   "cell_type": "code",
   "execution_count": null,
   "metadata": {},
   "outputs": [],
   "source": []
  },
  {
   "cell_type": "code",
   "execution_count": null,
   "metadata": {},
   "outputs": [],
   "source": []
  },
  {
   "cell_type": "code",
   "execution_count": null,
   "metadata": {},
   "outputs": [],
   "source": []
  },
  {
   "cell_type": "code",
   "execution_count": null,
   "metadata": {},
   "outputs": [],
   "source": []
  },
  {
   "cell_type": "code",
   "execution_count": null,
   "metadata": {},
   "outputs": [],
   "source": []
  },
  {
   "cell_type": "markdown",
   "metadata": {},
   "source": [
    "release month"
   ]
  },
  {
   "cell_type": "code",
   "execution_count": 319,
   "metadata": {
    "scrolled": true
   },
   "outputs": [],
   "source": [
    "release_month_df = df5[['release_month', 'roi']]"
   ]
  },
  {
   "cell_type": "code",
   "execution_count": 320,
   "metadata": {
    "scrolled": true
   },
   "outputs": [
    {
     "data": {
      "text/html": [
       "<div>\n",
       "<style scoped>\n",
       "    .dataframe tbody tr th:only-of-type {\n",
       "        vertical-align: middle;\n",
       "    }\n",
       "\n",
       "    .dataframe tbody tr th {\n",
       "        vertical-align: top;\n",
       "    }\n",
       "\n",
       "    .dataframe thead th {\n",
       "        text-align: right;\n",
       "    }\n",
       "</style>\n",
       "<table border=\"1\" class=\"dataframe\">\n",
       "  <thead>\n",
       "    <tr style=\"text-align: right;\">\n",
       "      <th></th>\n",
       "      <th>release_month</th>\n",
       "      <th>roi</th>\n",
       "    </tr>\n",
       "  </thead>\n",
       "  <tbody>\n",
       "    <tr>\n",
       "      <td>2</td>\n",
       "      <td>December</td>\n",
       "      <td>2.346121</td>\n",
       "    </tr>\n",
       "    <tr>\n",
       "      <td>7</td>\n",
       "      <td>March</td>\n",
       "      <td>2.958741</td>\n",
       "    </tr>\n",
       "    <tr>\n",
       "      <td>11</td>\n",
       "      <td>September</td>\n",
       "      <td>3.043325</td>\n",
       "    </tr>\n",
       "    <tr>\n",
       "      <td>8</td>\n",
       "      <td>May</td>\n",
       "      <td>3.169553</td>\n",
       "    </tr>\n",
       "    <tr>\n",
       "      <td>6</td>\n",
       "      <td>June</td>\n",
       "      <td>3.533801</td>\n",
       "    </tr>\n",
       "  </tbody>\n",
       "</table>\n",
       "</div>"
      ],
      "text/plain": [
       "   release_month       roi\n",
       "2       December  2.346121\n",
       "7          March  2.958741\n",
       "11     September  3.043325\n",
       "8            May  3.169553\n",
       "6           June  3.533801"
      ]
     },
     "execution_count": 320,
     "metadata": {},
     "output_type": "execute_result"
    }
   ],
   "source": [
    "release_month_df_grouped = release_month_df.groupby(['release_month'], as_index=False).mean().sort_values(by=['roi'])\n",
    "release_month_df_grouped.head()"
   ]
  },
  {
   "cell_type": "code",
   "execution_count": 391,
   "metadata": {},
   "outputs": [
    {
     "data": {
      "image/png": "[encoded data removed]",
      "text/plain": [
       "<Figure size 720x360 with 1 Axes>"
      ]
     },
     "metadata": {
      "needs_background": "light"
     },
     "output_type": "display_data"
    }
   ],
   "source": [
    "fig, ax = plt.subplots()\n",
    "fig.set_size_inches(10,5)\n",
    "ax = sns.barplot(x=\"release_month\", y=\"roi\", data=release_month_df_grouped)"
   ]
  },
  {
   "cell_type": "markdown",
   "metadata": {},
   "source": [
    "Release Week"
   ]
  },
  {
   "cell_type": "code",
   "execution_count": 393,
   "metadata": {},
   "outputs": [
    {
     "data": {
      "text/html": [
       "<div>\n",
       "<style scoped>\n",
       "    .dataframe tbody tr th:only-of-type {\n",
       "        vertical-align: middle;\n",
       "    }\n",
       "\n",
       "    .dataframe tbody tr th {\n",
       "        vertical-align: top;\n",
       "    }\n",
       "\n",
       "    .dataframe thead th {\n",
       "        text-align: right;\n",
       "    }\n",
       "</style>\n",
       "<table border=\"1\" class=\"dataframe\">\n",
       "  <thead>\n",
       "    <tr style=\"text-align: right;\">\n",
       "      <th></th>\n",
       "      <th>tconst</th>\n",
       "      <th>movie_title</th>\n",
       "      <th>runtime_minutes</th>\n",
       "      <th>genres</th>\n",
       "      <th>directors</th>\n",
       "      <th>writers</th>\n",
       "      <th>id</th>\n",
       "      <th>release_date</th>\n",
       "      <th>production_budget</th>\n",
       "      <th>release_day</th>\n",
       "      <th>release_month</th>\n",
       "      <th>release_year</th>\n",
       "      <th>revenue</th>\n",
       "      <th>profit</th>\n",
       "      <th>roi</th>\n",
       "    </tr>\n",
       "  </thead>\n",
       "  <tbody>\n",
       "    <tr>\n",
       "      <td>0</td>\n",
       "      <td>tt0249516</td>\n",
       "      <td>foodfight!</td>\n",
       "      <td>91.0</td>\n",
       "      <td>action,animation,comedy</td>\n",
       "      <td>nm0440415</td>\n",
       "      <td>nm0440415,nm0923312,nm0295165,nm0841854,nm0220297</td>\n",
       "      <td>26</td>\n",
       "      <td>2012-12-31 00:00:00.000000</td>\n",
       "      <td>45000000</td>\n",
       "      <td>Monday</td>\n",
       "      <td>December</td>\n",
       "      <td>2012</td>\n",
       "      <td>73706</td>\n",
       "      <td>-44926294</td>\n",
       "      <td>-0.998362</td>\n",
       "    </tr>\n",
       "    <tr>\n",
       "      <td>3</td>\n",
       "      <td>tt0337692</td>\n",
       "      <td>on the road</td>\n",
       "      <td>124.0</td>\n",
       "      <td>adventure,drama,romance</td>\n",
       "      <td>nm0758574</td>\n",
       "      <td>nm0449616,nm1433580</td>\n",
       "      <td>17</td>\n",
       "      <td>2013-03-22 00:00:00.000000</td>\n",
       "      <td>25000000</td>\n",
       "      <td>Friday</td>\n",
       "      <td>March</td>\n",
       "      <td>2013</td>\n",
       "      <td>10034130</td>\n",
       "      <td>-14965870</td>\n",
       "      <td>-0.598635</td>\n",
       "    </tr>\n",
       "    <tr>\n",
       "      <td>4</td>\n",
       "      <td>tt0359950</td>\n",
       "      <td>the secret life of walter mitty</td>\n",
       "      <td>114.0</td>\n",
       "      <td>adventure,comedy,drama</td>\n",
       "      <td>nm0001774</td>\n",
       "      <td>nm0175726,nm0862122</td>\n",
       "      <td>37</td>\n",
       "      <td>2013-12-25 00:00:00.000000</td>\n",
       "      <td>91000000</td>\n",
       "      <td>Wednesday</td>\n",
       "      <td>December</td>\n",
       "      <td>2013</td>\n",
       "      <td>246098021</td>\n",
       "      <td>155098021</td>\n",
       "      <td>1.704374</td>\n",
       "    </tr>\n",
       "    <tr>\n",
       "      <td>5</td>\n",
       "      <td>tt0365907</td>\n",
       "      <td>a walk among the tombstones</td>\n",
       "      <td>114.0</td>\n",
       "      <td>action,crime,drama</td>\n",
       "      <td>nm0291082</td>\n",
       "      <td>nm0088747,nm0291082</td>\n",
       "      <td>67</td>\n",
       "      <td>2014-09-19 00:00:00.000000</td>\n",
       "      <td>28000000</td>\n",
       "      <td>Friday</td>\n",
       "      <td>September</td>\n",
       "      <td>2014</td>\n",
       "      <td>88126272</td>\n",
       "      <td>60126272</td>\n",
       "      <td>2.147367</td>\n",
       "    </tr>\n",
       "    <tr>\n",
       "      <td>6</td>\n",
       "      <td>tt0369610</td>\n",
       "      <td>jurassic world</td>\n",
       "      <td>124.0</td>\n",
       "      <td>action,adventure,sci-fi</td>\n",
       "      <td>nm1119880</td>\n",
       "      <td>nm0415425,nm0798646,nm1119880,nm2081046,nm0000341</td>\n",
       "      <td>34</td>\n",
       "      <td>2015-06-12 00:00:00.000000</td>\n",
       "      <td>215000000</td>\n",
       "      <td>Friday</td>\n",
       "      <td>June</td>\n",
       "      <td>2015</td>\n",
       "      <td>2301125489</td>\n",
       "      <td>2086125489</td>\n",
       "      <td>9.702909</td>\n",
       "    </tr>\n",
       "  </tbody>\n",
       "</table>\n",
       "</div>"
      ],
      "text/plain": [
       "      tconst                      movie_title  runtime_minutes  \\\n",
       "0  tt0249516                       foodfight!             91.0   \n",
       "3  tt0337692                      on the road            124.0   \n",
       "4  tt0359950  the secret life of walter mitty            114.0   \n",
       "5  tt0365907      a walk among the tombstones            114.0   \n",
       "6  tt0369610                   jurassic world            124.0   \n",
       "\n",
       "                    genres  directors  \\\n",
       "0  action,animation,comedy  nm0440415   \n",
       "3  adventure,drama,romance  nm0758574   \n",
       "4   adventure,comedy,drama  nm0001774   \n",
       "5       action,crime,drama  nm0291082   \n",
       "6  action,adventure,sci-fi  nm1119880   \n",
       "\n",
       "                                             writers  id  \\\n",
       "0  nm0440415,nm0923312,nm0295165,nm0841854,nm0220297  26   \n",
       "3                                nm0449616,nm1433580  17   \n",
       "4                                nm0175726,nm0862122  37   \n",
       "5                                nm0088747,nm0291082  67   \n",
       "6  nm0415425,nm0798646,nm1119880,nm2081046,nm0000341  34   \n",
       "\n",
       "                 release_date  production_budget release_day release_month  \\\n",
       "0  2012-12-31 00:00:00.000000           45000000      Monday      December   \n",
       "3  2013-03-22 00:00:00.000000           25000000      Friday         March   \n",
       "4  2013-12-25 00:00:00.000000           91000000   Wednesday      December   \n",
       "5  2014-09-19 00:00:00.000000           28000000      Friday     September   \n",
       "6  2015-06-12 00:00:00.000000          215000000      Friday          June   \n",
       "\n",
       "   release_year     revenue      profit       roi  \n",
       "0          2012       73706   -44926294 -0.998362  \n",
       "3          2013    10034130   -14965870 -0.598635  \n",
       "4          2013   246098021   155098021  1.704374  \n",
       "5          2014    88126272    60126272  2.147367  \n",
       "6          2015  2301125489  2086125489  9.702909  "
      ]
     },
     "execution_count": 393,
     "metadata": {},
     "output_type": "execute_result"
    }
   ],
   "source": [
    "df5.head()"
   ]
  },
  {
   "cell_type": "code",
   "execution_count": 398,
   "metadata": {},
   "outputs": [],
   "source": [
    "release_week_df = df5[['release_day', 'roi', 'revenue']]"
   ]
  },
  {
   "cell_type": "code",
   "execution_count": 399,
   "metadata": {},
   "outputs": [
    {
     "data": {
      "text/html": [
       "<div>\n",
       "<style scoped>\n",
       "    .dataframe tbody tr th:only-of-type {\n",
       "        vertical-align: middle;\n",
       "    }\n",
       "\n",
       "    .dataframe tbody tr th {\n",
       "        vertical-align: top;\n",
       "    }\n",
       "\n",
       "    .dataframe thead th {\n",
       "        text-align: right;\n",
       "    }\n",
       "</style>\n",
       "<table border=\"1\" class=\"dataframe\">\n",
       "  <thead>\n",
       "    <tr style=\"text-align: right;\">\n",
       "      <th></th>\n",
       "      <th>release_day</th>\n",
       "      <th>roi</th>\n",
       "      <th>revenue</th>\n",
       "    </tr>\n",
       "  </thead>\n",
       "  <tbody>\n",
       "    <tr>\n",
       "      <td>2</td>\n",
       "      <td>Saturday</td>\n",
       "      <td>0.346472</td>\n",
       "      <td>2.943896e+07</td>\n",
       "    </tr>\n",
       "    <tr>\n",
       "      <td>0</td>\n",
       "      <td>Friday</td>\n",
       "      <td>4.273476</td>\n",
       "      <td>1.493764e+08</td>\n",
       "    </tr>\n",
       "    <tr>\n",
       "      <td>5</td>\n",
       "      <td>Tuesday</td>\n",
       "      <td>4.467681</td>\n",
       "      <td>2.732661e+07</td>\n",
       "    </tr>\n",
       "    <tr>\n",
       "      <td>1</td>\n",
       "      <td>Monday</td>\n",
       "      <td>5.833962</td>\n",
       "      <td>1.329007e+07</td>\n",
       "    </tr>\n",
       "    <tr>\n",
       "      <td>6</td>\n",
       "      <td>Wednesday</td>\n",
       "      <td>5.959717</td>\n",
       "      <td>1.840018e+08</td>\n",
       "    </tr>\n",
       "  </tbody>\n",
       "</table>\n",
       "</div>"
      ],
      "text/plain": [
       "  release_day       roi       revenue\n",
       "2    Saturday  0.346472  2.943896e+07\n",
       "0      Friday  4.273476  1.493764e+08\n",
       "5     Tuesday  4.467681  2.732661e+07\n",
       "1      Monday  5.833962  1.329007e+07\n",
       "6   Wednesday  5.959717  1.840018e+08"
      ]
     },
     "execution_count": 399,
     "metadata": {},
     "output_type": "execute_result"
    }
   ],
   "source": [
    "release_day_df_grouped = release_week_df.groupby(['release_day'], as_index=False).mean().sort_values(by=['roi'])\n",
    "release_day_df_grouped.head()"
   ]
  },
  {
   "cell_type": "code",
   "execution_count": 400,
   "metadata": {},
   "outputs": [
    {
     "data": {
      "image/png": "[encoded data removed]",
      "text/plain": [
       "<Figure size 720x360 with 1 Axes>"
      ]
     },
     "metadata": {
      "needs_background": "light"
     },
     "output_type": "display_data"
    }
   ],
   "source": [
    "fig, ax = plt.subplots()\n",
    "fig.set_size_inches(10,5)\n",
    "ax = sns.barplot(x=\"release_day\", y=\"roi\", data=release_day_df_grouped)"
   ]
  },
  {
   "cell_type": "code",
   "execution_count": 401,
   "metadata": {
    "scrolled": true
   },
   "outputs": [
    {
     "data": {
      "image/png": "[encoded data removed]",
      "text/plain": [
       "<Figure size 720x360 with 1 Axes>"
      ]
     },
     "metadata": {
      "needs_background": "light"
     },
     "output_type": "display_data"
    }
   ],
   "source": [
    "fig, ax = plt.subplots()\n",
    "fig.set_size_inches(10,5)\n",
    "ax = sns.barplot(x=\"release_day\", y=\"revenue\", data=release_day_df_grouped)"
   ]
  },
  {
   "cell_type": "code",
   "execution_count": null,
   "metadata": {},
   "outputs": [],
   "source": []
  },
  {
   "cell_type": "code",
   "execution_count": null,
   "metadata": {},
   "outputs": [],
   "source": []
  },
  {
   "cell_type": "code",
   "execution_count": null,
   "metadata": {},
   "outputs": [],
   "source": []
  },
  {
   "cell_type": "markdown",
   "metadata": {},
   "source": [
    "GDP on ROI"
   ]
  },
  {
   "cell_type": "code",
   "execution_count": 322,
   "metadata": {},
   "outputs": [
    {
     "data": {
      "text/html": [
       "<div>\n",
       "<style scoped>\n",
       "    .dataframe tbody tr th:only-of-type {\n",
       "        vertical-align: middle;\n",
       "    }\n",
       "\n",
       "    .dataframe tbody tr th {\n",
       "        vertical-align: top;\n",
       "    }\n",
       "\n",
       "    .dataframe thead th {\n",
       "        text-align: right;\n",
       "    }\n",
       "</style>\n",
       "<table border=\"1\" class=\"dataframe\">\n",
       "  <thead>\n",
       "    <tr style=\"text-align: right;\">\n",
       "      <th></th>\n",
       "      <th>release_year</th>\n",
       "      <th>world_gdp_growth</th>\n",
       "    </tr>\n",
       "  </thead>\n",
       "  <tbody>\n",
       "    <tr>\n",
       "      <td>0</td>\n",
       "      <td>1980</td>\n",
       "      <td>1.904</td>\n",
       "    </tr>\n",
       "    <tr>\n",
       "      <td>1</td>\n",
       "      <td>1981</td>\n",
       "      <td>1.923</td>\n",
       "    </tr>\n",
       "    <tr>\n",
       "      <td>2</td>\n",
       "      <td>1982</td>\n",
       "      <td>0.431</td>\n",
       "    </tr>\n",
       "    <tr>\n",
       "      <td>3</td>\n",
       "      <td>1983</td>\n",
       "      <td>2.412</td>\n",
       "    </tr>\n",
       "    <tr>\n",
       "      <td>4</td>\n",
       "      <td>1984</td>\n",
       "      <td>4.506</td>\n",
       "    </tr>\n",
       "  </tbody>\n",
       "</table>\n",
       "</div>"
      ],
      "text/plain": [
       "   release_year  world_gdp_growth\n",
       "0          1980             1.904\n",
       "1          1981             1.923\n",
       "2          1982             0.431\n",
       "3          1983             2.412\n",
       "4          1984             4.506"
      ]
     },
     "execution_count": 322,
     "metadata": {},
     "output_type": "execute_result"
    }
   ],
   "source": [
    "df_excel_gdp = pd.read_excel('zippedData/mod1_finalproject_worldgdpgrowth.xlsx')\n",
    "df_excel_gdp.head()"
   ]
  },
  {
   "cell_type": "code",
   "execution_count": 323,
   "metadata": {},
   "outputs": [
    {
     "data": {
      "text/html": [
       "<div>\n",
       "<style scoped>\n",
       "    .dataframe tbody tr th:only-of-type {\n",
       "        vertical-align: middle;\n",
       "    }\n",
       "\n",
       "    .dataframe tbody tr th {\n",
       "        vertical-align: top;\n",
       "    }\n",
       "\n",
       "    .dataframe thead th {\n",
       "        text-align: right;\n",
       "    }\n",
       "</style>\n",
       "<table border=\"1\" class=\"dataframe\">\n",
       "  <thead>\n",
       "    <tr style=\"text-align: right;\">\n",
       "      <th></th>\n",
       "      <th>release_year</th>\n",
       "      <th>revenue</th>\n",
       "      <th>profit</th>\n",
       "      <th>roi</th>\n",
       "      <th>production_budget</th>\n",
       "    </tr>\n",
       "  </thead>\n",
       "  <tbody>\n",
       "    <tr>\n",
       "      <td>0</td>\n",
       "      <td>2012</td>\n",
       "      <td>73706</td>\n",
       "      <td>-44926294</td>\n",
       "      <td>-0.998362</td>\n",
       "      <td>45000000</td>\n",
       "    </tr>\n",
       "    <tr>\n",
       "      <td>3</td>\n",
       "      <td>2013</td>\n",
       "      <td>10034130</td>\n",
       "      <td>-14965870</td>\n",
       "      <td>-0.598635</td>\n",
       "      <td>25000000</td>\n",
       "    </tr>\n",
       "    <tr>\n",
       "      <td>4</td>\n",
       "      <td>2013</td>\n",
       "      <td>246098021</td>\n",
       "      <td>155098021</td>\n",
       "      <td>1.704374</td>\n",
       "      <td>91000000</td>\n",
       "    </tr>\n",
       "    <tr>\n",
       "      <td>5</td>\n",
       "      <td>2014</td>\n",
       "      <td>88126272</td>\n",
       "      <td>60126272</td>\n",
       "      <td>2.147367</td>\n",
       "      <td>28000000</td>\n",
       "    </tr>\n",
       "    <tr>\n",
       "      <td>6</td>\n",
       "      <td>2015</td>\n",
       "      <td>2301125489</td>\n",
       "      <td>2086125489</td>\n",
       "      <td>9.702909</td>\n",
       "      <td>215000000</td>\n",
       "    </tr>\n",
       "  </tbody>\n",
       "</table>\n",
       "</div>"
      ],
      "text/plain": [
       "   release_year     revenue      profit       roi  production_budget\n",
       "0          2012       73706   -44926294 -0.998362           45000000\n",
       "3          2013    10034130   -14965870 -0.598635           25000000\n",
       "4          2013   246098021   155098021  1.704374           91000000\n",
       "5          2014    88126272    60126272  2.147367           28000000\n",
       "6          2015  2301125489  2086125489  9.702909          215000000"
      ]
     },
     "execution_count": 323,
     "metadata": {},
     "output_type": "execute_result"
    }
   ],
   "source": [
    "df_gross_stats = df5[['release_year', 'revenue','profit', 'roi', 'production_budget']]\n",
    "df_gross_stats.head()"
   ]
  },
  {
   "cell_type": "code",
   "execution_count": 324,
   "metadata": {},
   "outputs": [
    {
     "data": {
      "text/html": [
       "<div>\n",
       "<style scoped>\n",
       "    .dataframe tbody tr th:only-of-type {\n",
       "        vertical-align: middle;\n",
       "    }\n",
       "\n",
       "    .dataframe tbody tr th {\n",
       "        vertical-align: top;\n",
       "    }\n",
       "\n",
       "    .dataframe thead th {\n",
       "        text-align: right;\n",
       "    }\n",
       "</style>\n",
       "<table border=\"1\" class=\"dataframe\">\n",
       "  <thead>\n",
       "    <tr style=\"text-align: right;\">\n",
       "      <th></th>\n",
       "      <th>release_year</th>\n",
       "      <th>revenue</th>\n",
       "      <th>profit</th>\n",
       "      <th>roi</th>\n",
       "      <th>production_budget</th>\n",
       "    </tr>\n",
       "  </thead>\n",
       "  <tbody>\n",
       "    <tr>\n",
       "      <td>0</td>\n",
       "      <td>1915</td>\n",
       "      <td>21000000.0</td>\n",
       "      <td>20890000.0</td>\n",
       "      <td>189.909091</td>\n",
       "      <td>110000.0</td>\n",
       "    </tr>\n",
       "    <tr>\n",
       "      <td>1</td>\n",
       "      <td>1927</td>\n",
       "      <td>0.0</td>\n",
       "      <td>-2000000.0</td>\n",
       "      <td>-1.000000</td>\n",
       "      <td>2000000.0</td>\n",
       "    </tr>\n",
       "    <tr>\n",
       "      <td>2</td>\n",
       "      <td>1940</td>\n",
       "      <td>128960592.5</td>\n",
       "      <td>126923969.0</td>\n",
       "      <td>56.425918</td>\n",
       "      <td>2036623.5</td>\n",
       "    </tr>\n",
       "    <tr>\n",
       "      <td>3</td>\n",
       "      <td>1942</td>\n",
       "      <td>370797000.0</td>\n",
       "      <td>369939000.0</td>\n",
       "      <td>431.164336</td>\n",
       "      <td>858000.0</td>\n",
       "    </tr>\n",
       "    <tr>\n",
       "      <td>4</td>\n",
       "      <td>1944</td>\n",
       "      <td>4000000.0</td>\n",
       "      <td>-1200000.0</td>\n",
       "      <td>-0.230769</td>\n",
       "      <td>5200000.0</td>\n",
       "    </tr>\n",
       "  </tbody>\n",
       "</table>\n",
       "</div>"
      ],
      "text/plain": [
       "   release_year      revenue       profit         roi  production_budget\n",
       "0          1915   21000000.0   20890000.0  189.909091           110000.0\n",
       "1          1927          0.0   -2000000.0   -1.000000          2000000.0\n",
       "2          1940  128960592.5  126923969.0   56.425918          2036623.5\n",
       "3          1942  370797000.0  369939000.0  431.164336           858000.0\n",
       "4          1944    4000000.0   -1200000.0   -0.230769          5200000.0"
      ]
     },
     "execution_count": 324,
     "metadata": {},
     "output_type": "execute_result"
    }
   ],
   "source": [
    "df_gross_stats_grouped = df_gross_stats.groupby(['release_year'], as_index=False).mean().sort_values(by=['release_year'])\n",
    "df_gross_stats_grouped.head()"
   ]
  },
  {
   "cell_type": "code",
   "execution_count": 325,
   "metadata": {},
   "outputs": [],
   "source": [
    "df_gross_stats_grouped = df_gross_stats_grouped.loc[(df_gross_stats_grouped['release_year']>1979) & (df_gross_stats_grouped['release_year']<2015) ]"
   ]
  },
  {
   "cell_type": "code",
   "execution_count": 326,
   "metadata": {},
   "outputs": [],
   "source": [
    "qgdp = \"\"\" SELECT * \n",
    "         FROM df_gross_stats_grouped\n",
    "         JOIN df_excel_gdp\n",
    "         USING (release_year)\"\"\"\n",
    "df_gdp = pysqldf(qgdp)"
   ]
  },
  {
   "cell_type": "code",
   "execution_count": 327,
   "metadata": {},
   "outputs": [
    {
     "data": {
      "text/html": [
       "<div>\n",
       "<style scoped>\n",
       "    .dataframe tbody tr th:only-of-type {\n",
       "        vertical-align: middle;\n",
       "    }\n",
       "\n",
       "    .dataframe tbody tr th {\n",
       "        vertical-align: top;\n",
       "    }\n",
       "\n",
       "    .dataframe thead th {\n",
       "        text-align: right;\n",
       "    }\n",
       "</style>\n",
       "<table border=\"1\" class=\"dataframe\">\n",
       "  <thead>\n",
       "    <tr style=\"text-align: right;\">\n",
       "      <th></th>\n",
       "      <th>release_year</th>\n",
       "      <th>revenue</th>\n",
       "      <th>profit</th>\n",
       "      <th>roi</th>\n",
       "      <th>production_budget</th>\n",
       "      <th>world_gdp_growth</th>\n",
       "    </tr>\n",
       "  </thead>\n",
       "  <tbody>\n",
       "    <tr>\n",
       "      <td>0</td>\n",
       "      <td>1980</td>\n",
       "      <td>3.089214e+07</td>\n",
       "      <td>1.478214e+07</td>\n",
       "      <td>12.946811</td>\n",
       "      <td>16110000.0</td>\n",
       "      <td>1.904</td>\n",
       "    </tr>\n",
       "    <tr>\n",
       "      <td>1</td>\n",
       "      <td>1981</td>\n",
       "      <td>6.116128e+07</td>\n",
       "      <td>4.816128e+07</td>\n",
       "      <td>9.068278</td>\n",
       "      <td>13000000.0</td>\n",
       "      <td>1.923</td>\n",
       "    </tr>\n",
       "    <tr>\n",
       "      <td>2</td>\n",
       "      <td>1982</td>\n",
       "      <td>7.870255e+07</td>\n",
       "      <td>7.042755e+07</td>\n",
       "      <td>5.268793</td>\n",
       "      <td>8275000.0</td>\n",
       "      <td>0.431</td>\n",
       "    </tr>\n",
       "    <tr>\n",
       "      <td>3</td>\n",
       "      <td>1983</td>\n",
       "      <td>2.875329e+07</td>\n",
       "      <td>1.882829e+07</td>\n",
       "      <td>2.217587</td>\n",
       "      <td>9925000.0</td>\n",
       "      <td>2.412</td>\n",
       "    </tr>\n",
       "    <tr>\n",
       "      <td>4</td>\n",
       "      <td>1984</td>\n",
       "      <td>1.881210e+08</td>\n",
       "      <td>1.784110e+08</td>\n",
       "      <td>20.526439</td>\n",
       "      <td>9710000.0</td>\n",
       "      <td>4.506</td>\n",
       "    </tr>\n",
       "  </tbody>\n",
       "</table>\n",
       "</div>"
      ],
      "text/plain": [
       "   release_year       revenue        profit        roi  production_budget  \\\n",
       "0          1980  3.089214e+07  1.478214e+07  12.946811         16110000.0   \n",
       "1          1981  6.116128e+07  4.816128e+07   9.068278         13000000.0   \n",
       "2          1982  7.870255e+07  7.042755e+07   5.268793          8275000.0   \n",
       "3          1983  2.875329e+07  1.882829e+07   2.217587          9925000.0   \n",
       "4          1984  1.881210e+08  1.784110e+08  20.526439          9710000.0   \n",
       "\n",
       "   world_gdp_growth  \n",
       "0             1.904  \n",
       "1             1.923  \n",
       "2             0.431  \n",
       "3             2.412  \n",
       "4             4.506  "
      ]
     },
     "execution_count": 327,
     "metadata": {},
     "output_type": "execute_result"
    }
   ],
   "source": [
    "df_gdp.head()"
   ]
  },
  {
   "cell_type": "code",
   "execution_count": 328,
   "metadata": {},
   "outputs": [
    {
     "data": {
      "image/png": "[encoded data removed]",
      "text/plain": [
       "<Figure size 720x360 with 2 Axes>"
      ]
     },
     "metadata": {
      "needs_background": "light"
     },
     "output_type": "display_data"
    }
   ],
   "source": [
    "fig, ax = plt.subplots()\n",
    "fig.set_size_inches(10,5)\n",
    "ax = sns.scatterplot(x=\"world_gdp_growth\", y=\"production_budget\", data=df_gdp)\n",
    "ax.set_xlim(0, 5)\n",
    "ax2=ax.twinx()\n",
    "ax2 = sns.scatterplot(x=\"world_gdp_growth\", y=\"roi\", data=df_gdp, color = 'red')\n"
   ]
  },
  {
   "cell_type": "code",
   "execution_count": null,
   "metadata": {},
   "outputs": [],
   "source": []
  },
  {
   "cell_type": "code",
   "execution_count": null,
   "metadata": {},
   "outputs": [],
   "source": []
  },
  {
   "cell_type": "code",
   "execution_count": null,
   "metadata": {},
   "outputs": [],
   "source": []
  },
  {
   "cell_type": "code",
   "execution_count": null,
   "metadata": {},
   "outputs": [],
   "source": []
  },
  {
   "cell_type": "code",
   "execution_count": null,
   "metadata": {},
   "outputs": [],
   "source": []
  },
  {
   "cell_type": "code",
   "execution_count": null,
   "metadata": {},
   "outputs": [],
   "source": []
  },
  {
   "cell_type": "code",
   "execution_count": null,
   "metadata": {},
   "outputs": [],
   "source": []
  },
  {
   "cell_type": "code",
   "execution_count": null,
   "metadata": {},
   "outputs": [],
   "source": []
  },
  {
   "cell_type": "code",
   "execution_count": null,
   "metadata": {},
   "outputs": [],
   "source": []
  },
  {
   "cell_type": "markdown",
   "metadata": {},
   "source": [
    "genres"
   ]
  },
  {
   "cell_type": "code",
   "execution_count": 434,
   "metadata": {
    "scrolled": false
   },
   "outputs": [
    {
     "ename": "ValueError",
     "evalue": "Length mismatch: Expected axis has 26 elements, new values have 3 elements",
     "output_type": "error",
     "traceback": [
      "\u001b[0;31m---------------------------------------------------------------------------\u001b[0m",
      "\u001b[0;31mValueError\u001b[0m                                Traceback (most recent call last)",
      "\u001b[0;32m<ipython-input-434-c7b0462671cb>\u001b[0m in \u001b[0;36m<module>\u001b[0;34m\u001b[0m\n\u001b[0;32m----> 1\u001b[0;31m \u001b[0mtest\u001b[0m\u001b[0;34m.\u001b[0m\u001b[0mcolumns\u001b[0m \u001b[0;34m=\u001b[0m \u001b[0;34m[\u001b[0m\u001b[0;34m'genres1'\u001b[0m\u001b[0;34m,\u001b[0m \u001b[0;34m'genres2'\u001b[0m\u001b[0;34m,\u001b[0m \u001b[0;34m'genres3'\u001b[0m\u001b[0;34m]\u001b[0m\u001b[0;34m\u001b[0m\u001b[0;34m\u001b[0m\u001b[0m\n\u001b[0m",
      "\u001b[0;32m/opt/anaconda3/envs/learn-env/lib/python3.6/site-packages/pandas/core/generic.py\u001b[0m in \u001b[0;36m__setattr__\u001b[0;34m(self, name, value)\u001b[0m\n\u001b[1;32m   5190\u001b[0m         \u001b[0;32mtry\u001b[0m\u001b[0;34m:\u001b[0m\u001b[0;34m\u001b[0m\u001b[0;34m\u001b[0m\u001b[0m\n\u001b[1;32m   5191\u001b[0m             \u001b[0mobject\u001b[0m\u001b[0;34m.\u001b[0m\u001b[0m__getattribute__\u001b[0m\u001b[0;34m(\u001b[0m\u001b[0mself\u001b[0m\u001b[0;34m,\u001b[0m \u001b[0mname\u001b[0m\u001b[0;34m)\u001b[0m\u001b[0;34m\u001b[0m\u001b[0;34m\u001b[0m\u001b[0m\n\u001b[0;32m-> 5192\u001b[0;31m             \u001b[0;32mreturn\u001b[0m \u001b[0mobject\u001b[0m\u001b[0;34m.\u001b[0m\u001b[0m__setattr__\u001b[0m\u001b[0;34m(\u001b[0m\u001b[0mself\u001b[0m\u001b[0;34m,\u001b[0m \u001b[0mname\u001b[0m\u001b[0;34m,\u001b[0m \u001b[0mvalue\u001b[0m\u001b[0;34m)\u001b[0m\u001b[0;34m\u001b[0m\u001b[0;34m\u001b[0m\u001b[0m\n\u001b[0m\u001b[1;32m   5193\u001b[0m         \u001b[0;32mexcept\u001b[0m \u001b[0mAttributeError\u001b[0m\u001b[0;34m:\u001b[0m\u001b[0;34m\u001b[0m\u001b[0;34m\u001b[0m\u001b[0m\n\u001b[1;32m   5194\u001b[0m             \u001b[0;32mpass\u001b[0m\u001b[0;34m\u001b[0m\u001b[0;34m\u001b[0m\u001b[0m\n",
      "\u001b[0;32mpandas/_libs/properties.pyx\u001b[0m in \u001b[0;36mpandas._libs.properties.AxisProperty.__set__\u001b[0;34m()\u001b[0m\n",
      "\u001b[0;32m/opt/anaconda3/envs/learn-env/lib/python3.6/site-packages/pandas/core/generic.py\u001b[0m in \u001b[0;36m_set_axis\u001b[0;34m(self, axis, labels)\u001b[0m\n\u001b[1;32m    688\u001b[0m \u001b[0;34m\u001b[0m\u001b[0m\n\u001b[1;32m    689\u001b[0m     \u001b[0;32mdef\u001b[0m \u001b[0m_set_axis\u001b[0m\u001b[0;34m(\u001b[0m\u001b[0mself\u001b[0m\u001b[0;34m,\u001b[0m \u001b[0maxis\u001b[0m\u001b[0;34m,\u001b[0m \u001b[0mlabels\u001b[0m\u001b[0;34m)\u001b[0m\u001b[0;34m:\u001b[0m\u001b[0;34m\u001b[0m\u001b[0;34m\u001b[0m\u001b[0m\n\u001b[0;32m--> 690\u001b[0;31m         \u001b[0mself\u001b[0m\u001b[0;34m.\u001b[0m\u001b[0m_data\u001b[0m\u001b[0;34m.\u001b[0m\u001b[0mset_axis\u001b[0m\u001b[0;34m(\u001b[0m\u001b[0maxis\u001b[0m\u001b[0;34m,\u001b[0m \u001b[0mlabels\u001b[0m\u001b[0;34m)\u001b[0m\u001b[0;34m\u001b[0m\u001b[0;34m\u001b[0m\u001b[0m\n\u001b[0m\u001b[1;32m    691\u001b[0m         \u001b[0mself\u001b[0m\u001b[0;34m.\u001b[0m\u001b[0m_clear_item_cache\u001b[0m\u001b[0;34m(\u001b[0m\u001b[0;34m)\u001b[0m\u001b[0;34m\u001b[0m\u001b[0;34m\u001b[0m\u001b[0m\n\u001b[1;32m    692\u001b[0m \u001b[0;34m\u001b[0m\u001b[0m\n",
      "\u001b[0;32m/opt/anaconda3/envs/learn-env/lib/python3.6/site-packages/pandas/core/internals/managers.py\u001b[0m in \u001b[0;36mset_axis\u001b[0;34m(self, axis, new_labels)\u001b[0m\n\u001b[1;32m    181\u001b[0m             raise ValueError(\n\u001b[1;32m    182\u001b[0m                 \u001b[0;34m\"Length mismatch: Expected axis has {old} elements, new \"\u001b[0m\u001b[0;34m\u001b[0m\u001b[0;34m\u001b[0m\u001b[0m\n\u001b[0;32m--> 183\u001b[0;31m                 \u001b[0;34m\"values have {new} elements\"\u001b[0m\u001b[0;34m.\u001b[0m\u001b[0mformat\u001b[0m\u001b[0;34m(\u001b[0m\u001b[0mold\u001b[0m\u001b[0;34m=\u001b[0m\u001b[0mold_len\u001b[0m\u001b[0;34m,\u001b[0m \u001b[0mnew\u001b[0m\u001b[0;34m=\u001b[0m\u001b[0mnew_len\u001b[0m\u001b[0;34m)\u001b[0m\u001b[0;34m\u001b[0m\u001b[0;34m\u001b[0m\u001b[0m\n\u001b[0m\u001b[1;32m    184\u001b[0m             )\n\u001b[1;32m    185\u001b[0m \u001b[0;34m\u001b[0m\u001b[0m\n",
      "\u001b[0;31mValueError\u001b[0m: Length mismatch: Expected axis has 26 elements, new values have 3 elements"
     ]
    }
   ],
   "source": [
    "test.columns = ['genres1', 'genres2', 'genres3']"
   ]
  },
  {
   "cell_type": "code",
   "execution_count": 435,
   "metadata": {
    "scrolled": true
   },
   "outputs": [
    {
     "data": {
      "text/html": [
       "<div>\n",
       "<style scoped>\n",
       "    .dataframe tbody tr th:only-of-type {\n",
       "        vertical-align: middle;\n",
       "    }\n",
       "\n",
       "    .dataframe tbody tr th {\n",
       "        vertical-align: top;\n",
       "    }\n",
       "\n",
       "    .dataframe thead th {\n",
       "        text-align: right;\n",
       "    }\n",
       "</style>\n",
       "<table border=\"1\" class=\"dataframe\">\n",
       "  <thead>\n",
       "    <tr style=\"text-align: right;\">\n",
       "      <th></th>\n",
       "      <th>genres1</th>\n",
       "      <th>genres2</th>\n",
       "      <th>genres3</th>\n",
       "    </tr>\n",
       "  </thead>\n",
       "  <tbody>\n",
       "    <tr>\n",
       "      <td>0</td>\n",
       "      <td>action</td>\n",
       "      <td>animation</td>\n",
       "      <td>comedy</td>\n",
       "    </tr>\n",
       "    <tr>\n",
       "      <td>3</td>\n",
       "      <td>adventure</td>\n",
       "      <td>drama</td>\n",
       "      <td>romance</td>\n",
       "    </tr>\n",
       "    <tr>\n",
       "      <td>4</td>\n",
       "      <td>adventure</td>\n",
       "      <td>comedy</td>\n",
       "      <td>drama</td>\n",
       "    </tr>\n",
       "    <tr>\n",
       "      <td>5</td>\n",
       "      <td>action</td>\n",
       "      <td>crime</td>\n",
       "      <td>drama</td>\n",
       "    </tr>\n",
       "    <tr>\n",
       "      <td>6</td>\n",
       "      <td>action</td>\n",
       "      <td>adventure</td>\n",
       "      <td>sci-fi</td>\n",
       "    </tr>\n",
       "  </tbody>\n",
       "</table>\n",
       "</div>"
      ],
      "text/plain": [
       "     genres1    genres2  genres3\n",
       "0     action  animation   comedy\n",
       "3  adventure      drama  romance\n",
       "4  adventure     comedy    drama\n",
       "5     action      crime    drama\n",
       "6     action  adventure   sci-fi"
      ]
     },
     "execution_count": 435,
     "metadata": {},
     "output_type": "execute_result"
    }
   ],
   "source": [
    "test = df5[['genres']]\n",
    "test = test.genres.str.split(',', expand = True)\n",
    "test.columns = ['genres1', 'genres2', 'genres3']\n",
    "test.head(5)"
   ]
  },
  {
   "cell_type": "code",
   "execution_count": 436,
   "metadata": {},
   "outputs": [],
   "source": [
    "allgenres = list(df5.genres.unique())\n",
    "def listtostring(s):\n",
    "    string = \"\"\n",
    "    for e in s:\n",
    "        string += e\n",
    "        string += ','\n",
    "    return string"
   ]
  },
  {
   "cell_type": "code",
   "execution_count": 437,
   "metadata": {},
   "outputs": [],
   "source": [
    "allgenres_nocommas = listtostring(allgenres).replace(',',' ')\n",
    "uniquegenres = set(allgenres_nocommas.split())"
   ]
  },
  {
   "cell_type": "code",
   "execution_count": 438,
   "metadata": {
    "scrolled": true
   },
   "outputs": [],
   "source": [
    "for c in uniquegenres:\n",
    "    test[c] =  np.nan"
   ]
  },
  {
   "cell_type": "code",
   "execution_count": 439,
   "metadata": {},
   "outputs": [],
   "source": [
    "test2 = test"
   ]
  },
  {
   "cell_type": "code",
   "execution_count": 440,
   "metadata": {},
   "outputs": [],
   "source": [
    "test2 = test2.set_index([list(range(0,len(test2)))])"
   ]
  },
  {
   "cell_type": "code",
   "execution_count": 441,
   "metadata": {
    "scrolled": true
   },
   "outputs": [
    {
     "data": {
      "text/html": [
       "<div>\n",
       "<style scoped>\n",
       "    .dataframe tbody tr th:only-of-type {\n",
       "        vertical-align: middle;\n",
       "    }\n",
       "\n",
       "    .dataframe tbody tr th {\n",
       "        vertical-align: top;\n",
       "    }\n",
       "\n",
       "    .dataframe thead th {\n",
       "        text-align: right;\n",
       "    }\n",
       "</style>\n",
       "<table border=\"1\" class=\"dataframe\">\n",
       "  <thead>\n",
       "    <tr style=\"text-align: right;\">\n",
       "      <th></th>\n",
       "      <th>genres1</th>\n",
       "      <th>genres2</th>\n",
       "      <th>genres3</th>\n",
       "      <th>animation</th>\n",
       "      <th>crime</th>\n",
       "      <th>biography</th>\n",
       "      <th>adventure</th>\n",
       "      <th>fantasy</th>\n",
       "      <th>drama</th>\n",
       "      <th>romance</th>\n",
       "      <th>...</th>\n",
       "      <th>mystery</th>\n",
       "      <th>sport</th>\n",
       "      <th>documentary</th>\n",
       "      <th>news</th>\n",
       "      <th>music</th>\n",
       "      <th>reality-tv</th>\n",
       "      <th>thriller</th>\n",
       "      <th>horror</th>\n",
       "      <th>history</th>\n",
       "      <th>western</th>\n",
       "    </tr>\n",
       "  </thead>\n",
       "  <tbody>\n",
       "    <tr>\n",
       "      <td>0</td>\n",
       "      <td>action</td>\n",
       "      <td>animation</td>\n",
       "      <td>comedy</td>\n",
       "      <td>1.0</td>\n",
       "      <td>0.0</td>\n",
       "      <td>0.0</td>\n",
       "      <td>0.0</td>\n",
       "      <td>0.0</td>\n",
       "      <td>0.0</td>\n",
       "      <td>0.0</td>\n",
       "      <td>...</td>\n",
       "      <td>0.0</td>\n",
       "      <td>0.0</td>\n",
       "      <td>0.0</td>\n",
       "      <td>0.0</td>\n",
       "      <td>0.0</td>\n",
       "      <td>0.0</td>\n",
       "      <td>0.0</td>\n",
       "      <td>0.0</td>\n",
       "      <td>0.0</td>\n",
       "      <td>0.0</td>\n",
       "    </tr>\n",
       "    <tr>\n",
       "      <td>1</td>\n",
       "      <td>adventure</td>\n",
       "      <td>drama</td>\n",
       "      <td>romance</td>\n",
       "      <td>0.0</td>\n",
       "      <td>0.0</td>\n",
       "      <td>0.0</td>\n",
       "      <td>1.0</td>\n",
       "      <td>0.0</td>\n",
       "      <td>1.0</td>\n",
       "      <td>1.0</td>\n",
       "      <td>...</td>\n",
       "      <td>0.0</td>\n",
       "      <td>0.0</td>\n",
       "      <td>0.0</td>\n",
       "      <td>0.0</td>\n",
       "      <td>0.0</td>\n",
       "      <td>0.0</td>\n",
       "      <td>0.0</td>\n",
       "      <td>0.0</td>\n",
       "      <td>0.0</td>\n",
       "      <td>0.0</td>\n",
       "    </tr>\n",
       "    <tr>\n",
       "      <td>2</td>\n",
       "      <td>adventure</td>\n",
       "      <td>comedy</td>\n",
       "      <td>drama</td>\n",
       "      <td>0.0</td>\n",
       "      <td>0.0</td>\n",
       "      <td>0.0</td>\n",
       "      <td>1.0</td>\n",
       "      <td>0.0</td>\n",
       "      <td>1.0</td>\n",
       "      <td>0.0</td>\n",
       "      <td>...</td>\n",
       "      <td>0.0</td>\n",
       "      <td>0.0</td>\n",
       "      <td>0.0</td>\n",
       "      <td>0.0</td>\n",
       "      <td>0.0</td>\n",
       "      <td>0.0</td>\n",
       "      <td>0.0</td>\n",
       "      <td>0.0</td>\n",
       "      <td>0.0</td>\n",
       "      <td>0.0</td>\n",
       "    </tr>\n",
       "    <tr>\n",
       "      <td>3</td>\n",
       "      <td>action</td>\n",
       "      <td>crime</td>\n",
       "      <td>drama</td>\n",
       "      <td>0.0</td>\n",
       "      <td>1.0</td>\n",
       "      <td>0.0</td>\n",
       "      <td>0.0</td>\n",
       "      <td>0.0</td>\n",
       "      <td>1.0</td>\n",
       "      <td>0.0</td>\n",
       "      <td>...</td>\n",
       "      <td>0.0</td>\n",
       "      <td>0.0</td>\n",
       "      <td>0.0</td>\n",
       "      <td>0.0</td>\n",
       "      <td>0.0</td>\n",
       "      <td>0.0</td>\n",
       "      <td>0.0</td>\n",
       "      <td>0.0</td>\n",
       "      <td>0.0</td>\n",
       "      <td>0.0</td>\n",
       "    </tr>\n",
       "    <tr>\n",
       "      <td>4</td>\n",
       "      <td>action</td>\n",
       "      <td>adventure</td>\n",
       "      <td>sci-fi</td>\n",
       "      <td>0.0</td>\n",
       "      <td>0.0</td>\n",
       "      <td>0.0</td>\n",
       "      <td>1.0</td>\n",
       "      <td>0.0</td>\n",
       "      <td>0.0</td>\n",
       "      <td>0.0</td>\n",
       "      <td>...</td>\n",
       "      <td>0.0</td>\n",
       "      <td>0.0</td>\n",
       "      <td>0.0</td>\n",
       "      <td>0.0</td>\n",
       "      <td>0.0</td>\n",
       "      <td>0.0</td>\n",
       "      <td>0.0</td>\n",
       "      <td>0.0</td>\n",
       "      <td>0.0</td>\n",
       "      <td>0.0</td>\n",
       "    </tr>\n",
       "  </tbody>\n",
       "</table>\n",
       "<p>5 rows × 26 columns</p>\n",
       "</div>"
      ],
      "text/plain": [
       "     genres1    genres2  genres3  animation  crime  biography  adventure  \\\n",
       "0     action  animation   comedy        1.0    0.0        0.0        0.0   \n",
       "1  adventure      drama  romance        0.0    0.0        0.0        1.0   \n",
       "2  adventure     comedy    drama        0.0    0.0        0.0        1.0   \n",
       "3     action      crime    drama        0.0    1.0        0.0        0.0   \n",
       "4     action  adventure   sci-fi        0.0    0.0        0.0        1.0   \n",
       "\n",
       "   fantasy  drama  romance  ...  mystery  sport  documentary  news  music  \\\n",
       "0      0.0    0.0      0.0  ...      0.0    0.0          0.0   0.0    0.0   \n",
       "1      0.0    1.0      1.0  ...      0.0    0.0          0.0   0.0    0.0   \n",
       "2      0.0    1.0      0.0  ...      0.0    0.0          0.0   0.0    0.0   \n",
       "3      0.0    1.0      0.0  ...      0.0    0.0          0.0   0.0    0.0   \n",
       "4      0.0    0.0      0.0  ...      0.0    0.0          0.0   0.0    0.0   \n",
       "\n",
       "   reality-tv  thriller  horror  history  western  \n",
       "0         0.0       0.0     0.0      0.0      0.0  \n",
       "1         0.0       0.0     0.0      0.0      0.0  \n",
       "2         0.0       0.0     0.0      0.0      0.0  \n",
       "3         0.0       0.0     0.0      0.0      0.0  \n",
       "4         0.0       0.0     0.0      0.0      0.0  \n",
       "\n",
       "[5 rows x 26 columns]"
      ]
     },
     "execution_count": 441,
     "metadata": {},
     "output_type": "execute_result"
    }
   ],
   "source": [
    "for i in list(range(0,len(test2))):\n",
    "    for g in list(uniquegenres):\n",
    "        if g in np.array(test2.iloc[i]):\n",
    "            test2.at[i,g] = 1\n",
    "        else:\n",
    "            test2.at[i,g] = 0\n",
    "\n",
    "test2.head()"
   ]
  },
  {
   "cell_type": "code",
   "execution_count": 442,
   "metadata": {},
   "outputs": [],
   "source": [
    "genresdf5 = df5[['roi','profit','revenue', 'production_budget','genres']]\n",
    "genresdf5 = genresdf5.set_index([list(range(0,len(genresdf5)))])"
   ]
  },
  {
   "cell_type": "code",
   "execution_count": 443,
   "metadata": {},
   "outputs": [],
   "source": [
    "df_genres = pd.concat([genresdf5, test2], axis=1)"
   ]
  },
  {
   "cell_type": "code",
   "execution_count": 444,
   "metadata": {
    "scrolled": true
   },
   "outputs": [
    {
     "data": {
      "text/html": [
       "<div>\n",
       "<style scoped>\n",
       "    .dataframe tbody tr th:only-of-type {\n",
       "        vertical-align: middle;\n",
       "    }\n",
       "\n",
       "    .dataframe tbody tr th {\n",
       "        vertical-align: top;\n",
       "    }\n",
       "\n",
       "    .dataframe thead th {\n",
       "        text-align: right;\n",
       "    }\n",
       "</style>\n",
       "<table border=\"1\" class=\"dataframe\">\n",
       "  <thead>\n",
       "    <tr style=\"text-align: right;\">\n",
       "      <th></th>\n",
       "      <th>roi</th>\n",
       "      <th>profit</th>\n",
       "      <th>revenue</th>\n",
       "      <th>production_budget</th>\n",
       "      <th>crime</th>\n",
       "      <th>biography</th>\n",
       "      <th>adventure</th>\n",
       "      <th>fantasy</th>\n",
       "      <th>drama</th>\n",
       "      <th>romance</th>\n",
       "      <th>...</th>\n",
       "      <th>mystery</th>\n",
       "      <th>sport</th>\n",
       "      <th>documentary</th>\n",
       "      <th>news</th>\n",
       "      <th>music</th>\n",
       "      <th>reality-tv</th>\n",
       "      <th>thriller</th>\n",
       "      <th>horror</th>\n",
       "      <th>history</th>\n",
       "      <th>western</th>\n",
       "    </tr>\n",
       "    <tr>\n",
       "      <th>animation</th>\n",
       "      <th></th>\n",
       "      <th></th>\n",
       "      <th></th>\n",
       "      <th></th>\n",
       "      <th></th>\n",
       "      <th></th>\n",
       "      <th></th>\n",
       "      <th></th>\n",
       "      <th></th>\n",
       "      <th></th>\n",
       "      <th></th>\n",
       "      <th></th>\n",
       "      <th></th>\n",
       "      <th></th>\n",
       "      <th></th>\n",
       "      <th></th>\n",
       "      <th></th>\n",
       "      <th></th>\n",
       "      <th></th>\n",
       "      <th></th>\n",
       "      <th></th>\n",
       "    </tr>\n",
       "  </thead>\n",
       "  <tbody>\n",
       "    <tr>\n",
       "      <td>0.0</td>\n",
       "      <td>4.952453</td>\n",
       "      <td>9.695450e+07</td>\n",
       "      <td>1.286568e+08</td>\n",
       "      <td>3.170231e+07</td>\n",
       "      <td>0.128091</td>\n",
       "      <td>0.074863</td>\n",
       "      <td>0.124313</td>\n",
       "      <td>0.062500</td>\n",
       "      <td>0.540179</td>\n",
       "      <td>0.118819</td>\n",
       "      <td>...</td>\n",
       "      <td>0.080014</td>\n",
       "      <td>0.020261</td>\n",
       "      <td>0.083104</td>\n",
       "      <td>0.00206</td>\n",
       "      <td>0.027473</td>\n",
       "      <td>0.000343</td>\n",
       "      <td>0.183379</td>\n",
       "      <td>0.130838</td>\n",
       "      <td>0.027473</td>\n",
       "      <td>0.005838</td>\n",
       "    </tr>\n",
       "    <tr>\n",
       "      <td>1.0</td>\n",
       "      <td>4.799916</td>\n",
       "      <td>3.445172e+08</td>\n",
       "      <td>4.295418e+08</td>\n",
       "      <td>8.502455e+07</td>\n",
       "      <td>0.000000</td>\n",
       "      <td>0.000000</td>\n",
       "      <td>0.768657</td>\n",
       "      <td>0.029851</td>\n",
       "      <td>0.052239</td>\n",
       "      <td>0.000000</td>\n",
       "      <td>...</td>\n",
       "      <td>0.000000</td>\n",
       "      <td>0.000000</td>\n",
       "      <td>0.014925</td>\n",
       "      <td>0.00000</td>\n",
       "      <td>0.000000</td>\n",
       "      <td>0.000000</td>\n",
       "      <td>0.000000</td>\n",
       "      <td>0.007463</td>\n",
       "      <td>0.000000</td>\n",
       "      <td>0.000000</td>\n",
       "    </tr>\n",
       "  </tbody>\n",
       "</table>\n",
       "<p>2 rows × 26 columns</p>\n",
       "</div>"
      ],
      "text/plain": [
       "                roi        profit       revenue  production_budget     crime  \\\n",
       "animation                                                                      \n",
       "0.0        4.952453  9.695450e+07  1.286568e+08       3.170231e+07  0.128091   \n",
       "1.0        4.799916  3.445172e+08  4.295418e+08       8.502455e+07  0.000000   \n",
       "\n",
       "           biography  adventure   fantasy     drama   romance  ...   mystery  \\\n",
       "animation                                                      ...             \n",
       "0.0         0.074863   0.124313  0.062500  0.540179  0.118819  ...  0.080014   \n",
       "1.0         0.000000   0.768657  0.029851  0.052239  0.000000  ...  0.000000   \n",
       "\n",
       "              sport  documentary     news     music  reality-tv  thriller  \\\n",
       "animation                                                                   \n",
       "0.0        0.020261     0.083104  0.00206  0.027473    0.000343  0.183379   \n",
       "1.0        0.000000     0.014925  0.00000  0.000000    0.000000  0.000000   \n",
       "\n",
       "             horror   history   western  \n",
       "animation                                \n",
       "0.0        0.130838  0.027473  0.005838  \n",
       "1.0        0.007463  0.000000  0.000000  \n",
       "\n",
       "[2 rows x 26 columns]"
      ]
     },
     "execution_count": 444,
     "metadata": {},
     "output_type": "execute_result"
    }
   ],
   "source": [
    "test4 = df_genres.groupby(['animation']).mean()\n",
    "test4"
   ]
  },
  {
   "cell_type": "code",
   "execution_count": 445,
   "metadata": {},
   "outputs": [
    {
     "data": {
      "text/plain": [
       "2.9057376605138616"
      ]
     },
     "execution_count": 445,
     "metadata": {},
     "output_type": "execute_result"
    }
   ],
   "source": [
    "test5 = df_genres.loc[(df_genres['action']==1)].mean()\n",
    "test5.roi"
   ]
  },
  {
   "cell_type": "code",
   "execution_count": 446,
   "metadata": {},
   "outputs": [],
   "source": [
    "roi_for_genres = []\n",
    "for x in list(uniquegenres):\n",
    "    test6 = df_genres.loc[(df_genres[x]==1)].mean()\n",
    "    roi_for_genres.append(test6.roi)"
   ]
  },
  {
   "cell_type": "code",
   "execution_count": 447,
   "metadata": {},
   "outputs": [
    {
     "data": {
      "text/plain": [
       "[4.7999158207804875,\n",
       " 2.3487519040508174,\n",
       " 6.503580726575483,\n",
       " 3.17370863475544,\n",
       " 6.142213013027816,\n",
       " 4.0385527487472075,\n",
       " 4.94421462645176,\n",
       " 3.472694636167291,\n",
       " 1.7535609751961847,\n",
       " 5.826521211900948,\n",
       " 2.9057376605138616,\n",
       " 3.8618384607130247,\n",
       " 6.321139052404508,\n",
       " 9.393768954641603,\n",
       " 6.5575457674485325,\n",
       " 7.429536755713518,\n",
       " 0.9115181950278649,\n",
       " 3.94669205017807,\n",
       " -1.0,\n",
       " 6.815338646427456,\n",
       " 11.064253157343723,\n",
       " 5.213014222734193,\n",
       " 1.5908361603083419]"
      ]
     },
     "execution_count": 447,
     "metadata": {},
     "output_type": "execute_result"
    }
   ],
   "source": [
    "roi_for_genres"
   ]
  },
  {
   "cell_type": "code",
   "execution_count": 448,
   "metadata": {},
   "outputs": [],
   "source": [
    "df_roi_genres = pd.DataFrame(list(zip(list(uniquegenres), roi_for_genres)), columns =['genre', 'mean_roi']).sort_values(by=['genre'])"
   ]
  },
  {
   "cell_type": "code",
   "execution_count": 449,
   "metadata": {},
   "outputs": [
    {
     "data": {
      "image/png": "[encoded data removed]",
      "text/plain": [
       "<Figure size 1440x360 with 1 Axes>"
      ]
     },
     "metadata": {
      "needs_background": "light"
     },
     "output_type": "display_data"
    }
   ],
   "source": [
    "fig, ax = plt.subplots()\n",
    "fig.set_size_inches(20,5)\n",
    "ax = sns.barplot(x=\"genre\", y=\"mean_roi\", data=df_roi_genres)"
   ]
  },
  {
   "cell_type": "code",
   "execution_count": 450,
   "metadata": {},
   "outputs": [],
   "source": [
    "budget_for_genres = []\n",
    "for x in list(uniquegenres):\n",
    "    test6 = df_genres.loc[(df_genres[x]==1)].mean()\n",
    "    budget_for_genres.append(test6.production_budget)"
   ]
  },
  {
   "cell_type": "code",
   "execution_count": 451,
   "metadata": {},
   "outputs": [],
   "source": [
    "df_budget_genres = pd.DataFrame(list(zip(list(uniquegenres), budget_for_genres)), columns =['genre', 'mean_budget']).sort_values(by=['genre'])"
   ]
  },
  {
   "cell_type": "code",
   "execution_count": 452,
   "metadata": {
    "scrolled": true
   },
   "outputs": [
    {
     "data": {
      "image/png": "[encoded data removed]",
      "text/plain": [
       "<Figure size 1440x360 with 1 Axes>"
      ]
     },
     "metadata": {
      "needs_background": "light"
     },
     "output_type": "display_data"
    }
   ],
   "source": [
    "fig, ax = plt.subplots()\n",
    "fig.set_size_inches(20,5)\n",
    "ax = sns.barplot(x=\"genre\", y=\"mean_budget\", data=df_budget_genres)"
   ]
  },
  {
   "cell_type": "code",
   "execution_count": 453,
   "metadata": {},
   "outputs": [],
   "source": [
    "qroi_budget_grouped = \"\"\" SELECT * \n",
    "         FROM df_budget_genres\n",
    "         JOIN df_roi_genres\n",
    "         USING (genre)\"\"\"\n",
    "df_roi_budget_grouped = pysqldf(qroi_budget_grouped)"
   ]
  },
  {
   "cell_type": "code",
   "execution_count": 454,
   "metadata": {},
   "outputs": [
    {
     "data": {
      "text/html": [
       "<div>\n",
       "<style scoped>\n",
       "    .dataframe tbody tr th:only-of-type {\n",
       "        vertical-align: middle;\n",
       "    }\n",
       "\n",
       "    .dataframe tbody tr th {\n",
       "        vertical-align: top;\n",
       "    }\n",
       "\n",
       "    .dataframe thead th {\n",
       "        text-align: right;\n",
       "    }\n",
       "</style>\n",
       "<table border=\"1\" class=\"dataframe\">\n",
       "  <thead>\n",
       "    <tr style=\"text-align: right;\">\n",
       "      <th></th>\n",
       "      <th>genre</th>\n",
       "      <th>mean_budget</th>\n",
       "      <th>mean_roi</th>\n",
       "    </tr>\n",
       "  </thead>\n",
       "  <tbody>\n",
       "    <tr>\n",
       "      <td>0</td>\n",
       "      <td>action</td>\n",
       "      <td>6.610329e+07</td>\n",
       "      <td>2.905738</td>\n",
       "    </tr>\n",
       "    <tr>\n",
       "      <td>1</td>\n",
       "      <td>adventure</td>\n",
       "      <td>9.060648e+07</td>\n",
       "      <td>3.173709</td>\n",
       "    </tr>\n",
       "    <tr>\n",
       "      <td>2</td>\n",
       "      <td>animation</td>\n",
       "      <td>8.502455e+07</td>\n",
       "      <td>4.799916</td>\n",
       "    </tr>\n",
       "    <tr>\n",
       "      <td>3</td>\n",
       "      <td>biography</td>\n",
       "      <td>2.527752e+07</td>\n",
       "      <td>6.503581</td>\n",
       "    </tr>\n",
       "    <tr>\n",
       "      <td>4</td>\n",
       "      <td>comedy</td>\n",
       "      <td>3.369337e+07</td>\n",
       "      <td>3.861838</td>\n",
       "    </tr>\n",
       "    <tr>\n",
       "      <td>5</td>\n",
       "      <td>crime</td>\n",
       "      <td>2.759006e+07</td>\n",
       "      <td>2.348752</td>\n",
       "    </tr>\n",
       "    <tr>\n",
       "      <td>6</td>\n",
       "      <td>documentary</td>\n",
       "      <td>2.639833e+07</td>\n",
       "      <td>7.429537</td>\n",
       "    </tr>\n",
       "    <tr>\n",
       "      <td>7</td>\n",
       "      <td>drama</td>\n",
       "      <td>2.307572e+07</td>\n",
       "      <td>4.038553</td>\n",
       "    </tr>\n",
       "    <tr>\n",
       "      <td>8</td>\n",
       "      <td>family</td>\n",
       "      <td>4.822313e+07</td>\n",
       "      <td>5.826521</td>\n",
       "    </tr>\n",
       "    <tr>\n",
       "      <td>9</td>\n",
       "      <td>fantasy</td>\n",
       "      <td>6.846661e+07</td>\n",
       "      <td>6.142213</td>\n",
       "    </tr>\n",
       "    <tr>\n",
       "      <td>10</td>\n",
       "      <td>history</td>\n",
       "      <td>3.315825e+07</td>\n",
       "      <td>5.213014</td>\n",
       "    </tr>\n",
       "    <tr>\n",
       "      <td>11</td>\n",
       "      <td>horror</td>\n",
       "      <td>1.831936e+07</td>\n",
       "      <td>11.064253</td>\n",
       "    </tr>\n",
       "    <tr>\n",
       "      <td>12</td>\n",
       "      <td>music</td>\n",
       "      <td>1.537400e+07</td>\n",
       "      <td>3.946692</td>\n",
       "    </tr>\n",
       "    <tr>\n",
       "      <td>13</td>\n",
       "      <td>musical</td>\n",
       "      <td>3.423261e+07</td>\n",
       "      <td>6.321139</td>\n",
       "    </tr>\n",
       "    <tr>\n",
       "      <td>14</td>\n",
       "      <td>mystery</td>\n",
       "      <td>2.189942e+07</td>\n",
       "      <td>9.393769</td>\n",
       "    </tr>\n",
       "    <tr>\n",
       "      <td>15</td>\n",
       "      <td>news</td>\n",
       "      <td>3.446667e+07</td>\n",
       "      <td>0.911518</td>\n",
       "    </tr>\n",
       "    <tr>\n",
       "      <td>16</td>\n",
       "      <td>reality-tv</td>\n",
       "      <td>1.000000e+06</td>\n",
       "      <td>-1.000000</td>\n",
       "    </tr>\n",
       "    <tr>\n",
       "      <td>17</td>\n",
       "      <td>romance</td>\n",
       "      <td>2.036124e+07</td>\n",
       "      <td>4.944215</td>\n",
       "    </tr>\n",
       "    <tr>\n",
       "      <td>18</td>\n",
       "      <td>sci-fi</td>\n",
       "      <td>6.794888e+07</td>\n",
       "      <td>3.472695</td>\n",
       "    </tr>\n",
       "    <tr>\n",
       "      <td>19</td>\n",
       "      <td>sport</td>\n",
       "      <td>2.372669e+07</td>\n",
       "      <td>6.557546</td>\n",
       "    </tr>\n",
       "    <tr>\n",
       "      <td>20</td>\n",
       "      <td>thriller</td>\n",
       "      <td>2.739207e+07</td>\n",
       "      <td>6.815339</td>\n",
       "    </tr>\n",
       "    <tr>\n",
       "      <td>21</td>\n",
       "      <td>war</td>\n",
       "      <td>2.266250e+07</td>\n",
       "      <td>1.753561</td>\n",
       "    </tr>\n",
       "    <tr>\n",
       "      <td>22</td>\n",
       "      <td>western</td>\n",
       "      <td>4.669412e+07</td>\n",
       "      <td>1.590836</td>\n",
       "    </tr>\n",
       "  </tbody>\n",
       "</table>\n",
       "</div>"
      ],
      "text/plain": [
       "          genre   mean_budget   mean_roi\n",
       "0        action  6.610329e+07   2.905738\n",
       "1     adventure  9.060648e+07   3.173709\n",
       "2     animation  8.502455e+07   4.799916\n",
       "3     biography  2.527752e+07   6.503581\n",
       "4        comedy  3.369337e+07   3.861838\n",
       "5         crime  2.759006e+07   2.348752\n",
       "6   documentary  2.639833e+07   7.429537\n",
       "7         drama  2.307572e+07   4.038553\n",
       "8        family  4.822313e+07   5.826521\n",
       "9       fantasy  6.846661e+07   6.142213\n",
       "10      history  3.315825e+07   5.213014\n",
       "11       horror  1.831936e+07  11.064253\n",
       "12        music  1.537400e+07   3.946692\n",
       "13      musical  3.423261e+07   6.321139\n",
       "14      mystery  2.189942e+07   9.393769\n",
       "15         news  3.446667e+07   0.911518\n",
       "16   reality-tv  1.000000e+06  -1.000000\n",
       "17      romance  2.036124e+07   4.944215\n",
       "18       sci-fi  6.794888e+07   3.472695\n",
       "19        sport  2.372669e+07   6.557546\n",
       "20     thriller  2.739207e+07   6.815339\n",
       "21          war  2.266250e+07   1.753561\n",
       "22      western  4.669412e+07   1.590836"
      ]
     },
     "execution_count": 454,
     "metadata": {},
     "output_type": "execute_result"
    }
   ],
   "source": [
    "df_roi_budget_grouped"
   ]
  },
  {
   "cell_type": "code",
   "execution_count": 455,
   "metadata": {
    "scrolled": true
   },
   "outputs": [
    {
     "data": {
      "image/png": "[encoded data removed]",
      "text/plain": [
       "<Figure size 432x288 with 1 Axes>"
      ]
     },
     "metadata": {
      "needs_background": "light"
     },
     "output_type": "display_data"
    }
   ],
   "source": [
    "ax = sns.scatterplot(x=\"mean_budget\", y=\"mean_roi\", data=df_roi_budget_grouped)"
   ]
  },
  {
   "cell_type": "code",
   "execution_count": null,
   "metadata": {},
   "outputs": [],
   "source": []
  },
  {
   "cell_type": "code",
   "execution_count": null,
   "metadata": {},
   "outputs": [],
   "source": []
  },
  {
   "cell_type": "code",
   "execution_count": null,
   "metadata": {},
   "outputs": [],
   "source": []
  },
  {
   "cell_type": "code",
   "execution_count": null,
   "metadata": {},
   "outputs": [],
   "source": []
  },
  {
   "cell_type": "code",
   "execution_count": null,
   "metadata": {},
   "outputs": [],
   "source": []
  },
  {
   "cell_type": "code",
   "execution_count": null,
   "metadata": {},
   "outputs": [],
   "source": []
  },
  {
   "cell_type": "code",
   "execution_count": null,
   "metadata": {},
   "outputs": [],
   "source": []
  },
  {
   "cell_type": "code",
   "execution_count": 47,
   "metadata": {},
   "outputs": [],
   "source": [
    "#ideas, isin() function, str.contains(''), -> function that makes a unique list of all categories(using split)\n",
    "#itterrows  -  use that"
   ]
  }
 ],
 "metadata": {
  "kernelspec": {
   "display_name": "Python 3",
   "language": "python",
   "name": "python3"
  },
  "language_info": {
   "codemirror_mode": {
    "name": "ipython",
    "version": 3
   },
   "file_extension": ".py",
   "mimetype": "text/x-python",
   "name": "python",
   "nbconvert_exporter": "python",
   "pygments_lexer": "ipython3",
   "version": "3.6.9"
  }
 },
 "nbformat": 4,
 "nbformat_minor": 2
}
